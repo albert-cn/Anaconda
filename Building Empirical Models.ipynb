{
 "cells": [
  {
   "cell_type": "code",
   "execution_count": 1,
   "metadata": {},
   "outputs": [
    {
     "data": {
      "text/html": [
       "'C:/Users/Administrator/Desktop/R/R practice'"
      ],
      "text/latex": [
       "'C:/Users/Administrator/Desktop/R/R practice'"
      ],
      "text/markdown": [
       "'C:/Users/Administrator/Desktop/R/R practice'"
      ],
      "text/plain": [
       "[1] \"C:/Users/Administrator/Desktop/R/R practice\""
      ]
     },
     "metadata": {},
     "output_type": "display_data"
    }
   ],
   "source": [
    "getwd()\n",
    "options(repos = 'http://mirrors.ustc.edu.cn/CRAN/') "
   ]
  },
  {
   "cell_type": "code",
   "execution_count": 2,
   "metadata": {},
   "outputs": [
    {
     "name": "stderr",
     "output_type": "stream",
     "text": [
      "also installing the dependencies 'miniUI', 'manipulateWidget'\n",
      "\n"
     ]
    },
    {
     "name": "stdout",
     "output_type": "stream",
     "text": [
      "package 'miniUI' successfully unpacked and MD5 sums checked\n",
      "package 'manipulateWidget' successfully unpacked and MD5 sums checked\n",
      "package 'rgl' successfully unpacked and MD5 sums checked\n",
      "\n",
      "The downloaded binary packages are in\n",
      "\tC:\\Users\\Administrator\\AppData\\Local\\Temp\\RtmpkVTdEC\\downloaded_packages\n"
     ]
    }
   ],
   "source": [
    "install.packages(\"rgl\")"
   ]
  },
  {
   "cell_type": "code",
   "execution_count": 3,
   "metadata": {},
   "outputs": [],
   "source": [
    "fn.data <- \"http://statacumen.com/teach/RSM/data/RSM_TAB_02-08.txt\"\n",
    "df.2.8 <- read.table(fn.data, header=TRUE, skip=1)"
   ]
  },
  {
   "cell_type": "code",
   "execution_count": 4,
   "metadata": {},
   "outputs": [
    {
     "name": "stdout",
     "output_type": "stream",
     "text": [
      "'data.frame':\t12 obs. of  3 variables:\n",
      " $ x1: int  -1 1 -1 1 -9 9 0 0 0 0 ...\n",
      " $ x2: int  -1 -1 1 1 0 0 -9 9 0 0 ...\n",
      " $ y : int  43 78 69 73 48 76 65 74 76 79 ...\n"
     ]
    },
    {
     "data": {
      "text/html": [
       "<table>\n",
       "<thead><tr><th scope=col>x1</th><th scope=col>x2</th><th scope=col>y</th></tr></thead>\n",
       "<tbody>\n",
       "\t<tr><td>-1</td><td>-1</td><td>43</td></tr>\n",
       "\t<tr><td> 1</td><td>-1</td><td>78</td></tr>\n",
       "\t<tr><td>-1</td><td> 1</td><td>69</td></tr>\n",
       "\t<tr><td> 1</td><td> 1</td><td>73</td></tr>\n",
       "\t<tr><td>-9</td><td> 0</td><td>48</td></tr>\n",
       "\t<tr><td> 9</td><td> 0</td><td>76</td></tr>\n",
       "\t<tr><td> 0</td><td>-9</td><td>65</td></tr>\n",
       "\t<tr><td> 0</td><td> 9</td><td>74</td></tr>\n",
       "\t<tr><td> 0</td><td> 0</td><td>76</td></tr>\n",
       "\t<tr><td> 0</td><td> 0</td><td>79</td></tr>\n",
       "\t<tr><td> 0</td><td> 0</td><td>83</td></tr>\n",
       "\t<tr><td> 0</td><td> 0</td><td>81</td></tr>\n",
       "</tbody>\n",
       "</table>\n"
      ],
      "text/latex": [
       "\\begin{tabular}{r|lll}\n",
       " x1 & x2 & y\\\\\n",
       "\\hline\n",
       "\t -1 & -1 & 43\\\\\n",
       "\t  1 & -1 & 78\\\\\n",
       "\t -1 &  1 & 69\\\\\n",
       "\t  1 &  1 & 73\\\\\n",
       "\t -9 &  0 & 48\\\\\n",
       "\t  9 &  0 & 76\\\\\n",
       "\t  0 & -9 & 65\\\\\n",
       "\t  0 &  9 & 74\\\\\n",
       "\t  0 &  0 & 76\\\\\n",
       "\t  0 &  0 & 79\\\\\n",
       "\t  0 &  0 & 83\\\\\n",
       "\t  0 &  0 & 81\\\\\n",
       "\\end{tabular}\n"
      ],
      "text/markdown": [
       "\n",
       "x1 | x2 | y | \n",
       "|---|---|---|---|---|---|---|---|---|---|---|---|\n",
       "| -1 | -1 | 43 | \n",
       "|  1 | -1 | 78 | \n",
       "| -1 |  1 | 69 | \n",
       "|  1 |  1 | 73 | \n",
       "| -9 |  0 | 48 | \n",
       "|  9 |  0 | 76 | \n",
       "|  0 | -9 | 65 | \n",
       "|  0 |  9 | 74 | \n",
       "|  0 |  0 | 76 | \n",
       "|  0 |  0 | 79 | \n",
       "|  0 |  0 | 83 | \n",
       "|  0 |  0 | 81 | \n",
       "\n",
       "\n"
      ],
      "text/plain": [
       "   x1 x2 y \n",
       "1  -1 -1 43\n",
       "2   1 -1 78\n",
       "3  -1  1 69\n",
       "4   1  1 73\n",
       "5  -9  0 48\n",
       "6   9  0 76\n",
       "7   0 -9 65\n",
       "8   0  9 74\n",
       "9   0  0 76\n",
       "10  0  0 79\n",
       "11  0  0 83\n",
       "12  0  0 81"
      ]
     },
     "metadata": {},
     "output_type": "display_data"
    }
   ],
   "source": [
    "str(df.2.8)\n",
    "df.2.8"
   ]
  },
  {
   "cell_type": "code",
   "execution_count": 5,
   "metadata": {},
   "outputs": [
    {
     "data": {
      "text/html": [
       "<table>\n",
       "<thead><tr><th scope=col>x1</th><th scope=col>x2</th><th scope=col>y</th></tr></thead>\n",
       "<tbody>\n",
       "\t<tr><td>-1.000000</td><td>-1.000000</td><td>43       </td></tr>\n",
       "\t<tr><td> 1.000000</td><td>-1.000000</td><td>78       </td></tr>\n",
       "\t<tr><td>-1.000000</td><td> 1.000000</td><td>69       </td></tr>\n",
       "\t<tr><td> 1.000000</td><td> 1.000000</td><td>73       </td></tr>\n",
       "\t<tr><td>-1.414214</td><td> 0.000000</td><td>48       </td></tr>\n",
       "\t<tr><td> 1.414214</td><td> 0.000000</td><td>76       </td></tr>\n",
       "\t<tr><td> 0.000000</td><td>-1.414214</td><td>65       </td></tr>\n",
       "\t<tr><td> 0.000000</td><td> 1.414214</td><td>74       </td></tr>\n",
       "\t<tr><td> 0.000000</td><td> 0.000000</td><td>76       </td></tr>\n",
       "\t<tr><td> 0.000000</td><td> 0.000000</td><td>79       </td></tr>\n",
       "\t<tr><td> 0.000000</td><td> 0.000000</td><td>83       </td></tr>\n",
       "\t<tr><td> 0.000000</td><td> 0.000000</td><td>81       </td></tr>\n",
       "</tbody>\n",
       "</table>\n"
      ],
      "text/latex": [
       "\\begin{tabular}{r|lll}\n",
       " x1 & x2 & y\\\\\n",
       "\\hline\n",
       "\t -1.000000 & -1.000000 & 43       \\\\\n",
       "\t  1.000000 & -1.000000 & 78       \\\\\n",
       "\t -1.000000 &  1.000000 & 69       \\\\\n",
       "\t  1.000000 &  1.000000 & 73       \\\\\n",
       "\t -1.414214 &  0.000000 & 48       \\\\\n",
       "\t  1.414214 &  0.000000 & 76       \\\\\n",
       "\t  0.000000 & -1.414214 & 65       \\\\\n",
       "\t  0.000000 &  1.414214 & 74       \\\\\n",
       "\t  0.000000 &  0.000000 & 76       \\\\\n",
       "\t  0.000000 &  0.000000 & 79       \\\\\n",
       "\t  0.000000 &  0.000000 & 83       \\\\\n",
       "\t  0.000000 &  0.000000 & 81       \\\\\n",
       "\\end{tabular}\n"
      ],
      "text/markdown": [
       "\n",
       "x1 | x2 | y | \n",
       "|---|---|---|---|---|---|---|---|---|---|---|---|\n",
       "| -1.000000 | -1.000000 | 43        | \n",
       "|  1.000000 | -1.000000 | 78        | \n",
       "| -1.000000 |  1.000000 | 69        | \n",
       "|  1.000000 |  1.000000 | 73        | \n",
       "| -1.414214 |  0.000000 | 48        | \n",
       "|  1.414214 |  0.000000 | 76        | \n",
       "|  0.000000 | -1.414214 | 65        | \n",
       "|  0.000000 |  1.414214 | 74        | \n",
       "|  0.000000 |  0.000000 | 76        | \n",
       "|  0.000000 |  0.000000 | 79        | \n",
       "|  0.000000 |  0.000000 | 83        | \n",
       "|  0.000000 |  0.000000 | 81        | \n",
       "\n",
       "\n"
      ],
      "text/plain": [
       "   x1        x2        y \n",
       "1  -1.000000 -1.000000 43\n",
       "2   1.000000 -1.000000 78\n",
       "3  -1.000000  1.000000 69\n",
       "4   1.000000  1.000000 73\n",
       "5  -1.414214  0.000000 48\n",
       "6   1.414214  0.000000 76\n",
       "7   0.000000 -1.414214 65\n",
       "8   0.000000  1.414214 74\n",
       "9   0.000000  0.000000 76\n",
       "10  0.000000  0.000000 79\n",
       "11  0.000000  0.000000 83\n",
       "12  0.000000  0.000000 81"
      ]
     },
     "metadata": {},
     "output_type": "display_data"
    }
   ],
   "source": [
    "df.2.8[,c(\"x1\",\"x2\")] <- replace(df.2.8[,c(\"x1\",\"x2\")], (df.2.8[,c(\"x1\",\"x2\")] == 9), sqrt(2))\n",
    "df.2.8[,c(\"x1\",\"x2\")] <- replace(df.2.8[,c(\"x1\",\"x2\")], (df.2.8[,c(\"x1\",\"x2\")] == -9), -sqrt(2))\n",
    "df.2.8"
   ]
  },
  {
   "cell_type": "code",
   "execution_count": 6,
   "metadata": {},
   "outputs": [
    {
     "data": {},
     "metadata": {},
     "output_type": "display_data"
    }
   ],
   "source": [
    "library( rgl )\n",
    "plot3d(df.2.8)"
   ]
  },
  {
   "cell_type": "code",
   "execution_count": 12,
   "metadata": {},
   "outputs": [
    {
     "name": "stderr",
     "output_type": "stream",
     "text": [
      "Warning message in warn_if_args_exist(list(...)):\n",
      "\"Extra arguments: \"alpha\" are being ignored.  If these are meant to be aesthetics, submit them using the 'mapping' variable within ggpairs with ggplot2::aes or ggplot2::aes_string.\""
     ]
    },
    {
     "data": {
      "image/png": "[encoded data removed]",
      "text/plain": [
       "plot without title"
      ]
     },
     "metadata": {},
     "output_type": "display_data"
    }
   ],
   "source": [
    "library(ggplot2)\n",
    "suppressMessages(suppressWarnings(library(GGally)))\n",
    "p <- ggpairs(df.2.8, alpha = 0.1)\n",
    "# put scatterplots on top so y axis is vertical\n",
    "#p <- ggpairs(df.2.8, upper = list(continuous = \"points\"), lower = list(continuous = \"cor\"))\n",
    "print(p)"
   ]
  },
  {
   "cell_type": "code",
   "execution_count": 10,
   "metadata": {},
   "outputs": [
    {
     "name": "stderr",
     "output_type": "stream",
     "text": [
      "also installing the dependencies 'prettyunits', 'progress', 'reshape'\n",
      "\n"
     ]
    },
    {
     "name": "stdout",
     "output_type": "stream",
     "text": [
      "package 'prettyunits' successfully unpacked and MD5 sums checked\n",
      "package 'progress' successfully unpacked and MD5 sums checked\n",
      "package 'reshape' successfully unpacked and MD5 sums checked\n",
      "package 'GGally' successfully unpacked and MD5 sums checked\n",
      "\n",
      "The downloaded binary packages are in\n",
      "\tC:\\Users\\Administrator\\AppData\\Local\\Temp\\RtmpMj24Cq\\downloaded_packages\n"
     ]
    }
   ],
   "source": [
    "install.packages('GGally')"
   ]
  },
  {
   "cell_type": "code",
   "execution_count": 13,
   "metadata": {},
   "outputs": [
    {
     "ename": "ERROR",
     "evalue": "Error in detach(\"package:reshape\", unload = TRUE): invalid 'name' argument\n",
     "output_type": "error",
     "traceback": [
      "Error in detach(\"package:reshape\", unload = TRUE): invalid 'name' argument\nTraceback:\n",
      "1. detach(\"package:reshape\", unload = TRUE)",
      "2. stop(\"invalid 'name' argument\")"
     ]
    }
   ],
   "source": [
    "detach(\"package:GGally\", unload=TRUE)\n",
    "detach(\"package:reshape\", unload=TRUE)"
   ]
  },
  {
   "cell_type": "code",
   "execution_count": 14,
   "metadata": {},
   "outputs": [
    {
     "name": "stderr",
     "output_type": "stream",
     "text": [
      "Loading required package: lattice\n",
      "Loading required package: survival\n",
      "Loading required package: Formula\n",
      "\n",
      "Attaching package: 'Hmisc'\n",
      "\n",
      "The following objects are masked from 'package:base':\n",
      "\n",
      "    format.pval, units\n",
      "\n"
     ]
    },
    {
     "data": {
      "text/plain": [
       "     x1   x2    y\n",
       "x1 1.00 0.00 0.66\n",
       "x2 0.00 1.00 0.28\n",
       "y  0.66 0.28 1.00\n",
       "\n",
       "n= 12 \n",
       "\n",
       "\n",
       "P\n",
       "   x1     x2     y     \n",
       "x1        1.0000 0.0193\n",
       "x2 1.0000        0.3718\n",
       "y  0.0193 0.3718       "
      ]
     },
     "metadata": {},
     "output_type": "display_data"
    }
   ],
   "source": [
    "library(Hmisc)\n",
    "rcorr(as.matrix(df.2.8))"
   ]
  },
  {
   "cell_type": "code",
   "execution_count": 5,
   "metadata": {},
   "outputs": [],
   "source": [
    "# load the rsm package\n",
    "library(rsm)"
   ]
  },
  {
   "cell_type": "code",
   "execution_count": 6,
   "metadata": {},
   "outputs": [],
   "source": [
    "# fit second-order (SO) model\n",
    "# -- look up ?SO and see other options\n",
    "rsm.2.8.y.SOx12 <- rsm(y ~ SO(x1, x2), data = df.2.8)"
   ]
  },
  {
   "cell_type": "code",
   "execution_count": 7,
   "metadata": {},
   "outputs": [
    {
     "data": {
      "text/html": [
       "<ol class=list-inline>\n",
       "\t<li>'coefficients'</li>\n",
       "\t<li>'residuals'</li>\n",
       "\t<li>'effects'</li>\n",
       "\t<li>'rank'</li>\n",
       "\t<li>'fitted.values'</li>\n",
       "\t<li>'assign'</li>\n",
       "\t<li>'qr'</li>\n",
       "\t<li>'df.residual'</li>\n",
       "\t<li>'xlevels'</li>\n",
       "\t<li>'call'</li>\n",
       "\t<li>'terms'</li>\n",
       "\t<li>'model'</li>\n",
       "\t<li>'data'</li>\n",
       "\t<li>'b'</li>\n",
       "\t<li>'order'</li>\n",
       "\t<li>'B'</li>\n",
       "\t<li>'newlabs'</li>\n",
       "</ol>\n"
      ],
      "text/latex": [
       "\\begin{enumerate*}\n",
       "\\item 'coefficients'\n",
       "\\item 'residuals'\n",
       "\\item 'effects'\n",
       "\\item 'rank'\n",
       "\\item 'fitted.values'\n",
       "\\item 'assign'\n",
       "\\item 'qr'\n",
       "\\item 'df.residual'\n",
       "\\item 'xlevels'\n",
       "\\item 'call'\n",
       "\\item 'terms'\n",
       "\\item 'model'\n",
       "\\item 'data'\n",
       "\\item 'b'\n",
       "\\item 'order'\n",
       "\\item 'B'\n",
       "\\item 'newlabs'\n",
       "\\end{enumerate*}\n"
      ],
      "text/markdown": [
       "1. 'coefficients'\n",
       "2. 'residuals'\n",
       "3. 'effects'\n",
       "4. 'rank'\n",
       "5. 'fitted.values'\n",
       "6. 'assign'\n",
       "7. 'qr'\n",
       "8. 'df.residual'\n",
       "9. 'xlevels'\n",
       "10. 'call'\n",
       "11. 'terms'\n",
       "12. 'model'\n",
       "13. 'data'\n",
       "14. 'b'\n",
       "15. 'order'\n",
       "16. 'B'\n",
       "17. 'newlabs'\n",
       "\n",
       "\n"
      ],
      "text/plain": [
       " [1] \"coefficients\"  \"residuals\"     \"effects\"       \"rank\"         \n",
       " [5] \"fitted.values\" \"assign\"        \"qr\"            \"df.residual\"  \n",
       " [9] \"xlevels\"       \"call\"          \"terms\"         \"model\"        \n",
       "[13] \"data\"          \"b\"             \"order\"         \"B\"            \n",
       "[17] \"newlabs\"      "
      ]
     },
     "metadata": {},
     "output_type": "display_data"
    }
   ],
   "source": [
    "# which variables are available in the rsm object?\n",
    "names(rsm.2.8.y.SOx12)"
   ]
  },
  {
   "cell_type": "code",
   "execution_count": 8,
   "metadata": {},
   "outputs": [
    {
     "data": {
      "text/html": [
       "<ol class=list-inline>\n",
       "\t<li>'call'</li>\n",
       "\t<li>'terms'</li>\n",
       "\t<li>'residuals'</li>\n",
       "\t<li>'coefficients'</li>\n",
       "\t<li>'aliased'</li>\n",
       "\t<li>'sigma'</li>\n",
       "\t<li>'df'</li>\n",
       "\t<li>'r.squared'</li>\n",
       "\t<li>'adj.r.squared'</li>\n",
       "\t<li>'fstatistic'</li>\n",
       "\t<li>'cov.unscaled'</li>\n",
       "\t<li>'canonical'</li>\n",
       "\t<li>'lof'</li>\n",
       "</ol>\n"
      ],
      "text/latex": [
       "\\begin{enumerate*}\n",
       "\\item 'call'\n",
       "\\item 'terms'\n",
       "\\item 'residuals'\n",
       "\\item 'coefficients'\n",
       "\\item 'aliased'\n",
       "\\item 'sigma'\n",
       "\\item 'df'\n",
       "\\item 'r.squared'\n",
       "\\item 'adj.r.squared'\n",
       "\\item 'fstatistic'\n",
       "\\item 'cov.unscaled'\n",
       "\\item 'canonical'\n",
       "\\item 'lof'\n",
       "\\end{enumerate*}\n"
      ],
      "text/markdown": [
       "1. 'call'\n",
       "2. 'terms'\n",
       "3. 'residuals'\n",
       "4. 'coefficients'\n",
       "5. 'aliased'\n",
       "6. 'sigma'\n",
       "7. 'df'\n",
       "8. 'r.squared'\n",
       "9. 'adj.r.squared'\n",
       "10. 'fstatistic'\n",
       "11. 'cov.unscaled'\n",
       "12. 'canonical'\n",
       "13. 'lof'\n",
       "\n",
       "\n"
      ],
      "text/plain": [
       " [1] \"call\"          \"terms\"         \"residuals\"     \"coefficients\" \n",
       " [5] \"aliased\"       \"sigma\"         \"df\"            \"r.squared\"    \n",
       " [9] \"adj.r.squared\" \"fstatistic\"    \"cov.unscaled\"  \"canonical\"    \n",
       "[13] \"lof\"          "
      ]
     },
     "metadata": {},
     "output_type": "display_data"
    }
   ],
   "source": [
    "# which variables are available in the summary of the rsm object?\n",
    "names(summary(rsm.2.8.y.SOx12))"
   ]
  },
  {
   "cell_type": "code",
   "execution_count": 7,
   "metadata": {},
   "outputs": [
    {
     "data": {
      "text/plain": [
       "\n",
       "Call:\n",
       "rsm(formula = y ~ SO(x1, x2), data = df.2.8)\n",
       "\n",
       "            Estimate Std. Error t value  Pr(>|t|)    \n",
       "(Intercept) 79.75000    1.21361 65.7133 8.352e-10 ***\n",
       "x1           9.82475    0.85815 11.4488 2.665e-05 ***\n",
       "x2           4.21599    0.85815  4.9129 0.0026759 ** \n",
       "x1:x2       -7.75000    1.21361 -6.3859 0.0006938 ***\n",
       "x1^2        -8.87500    0.95944 -9.2502 9.017e-05 ***\n",
       "x2^2        -5.12500    0.95944 -5.3417 0.0017585 ** \n",
       "---\n",
       "Signif. codes:  0 '***' 0.001 '**' 0.01 '*' 0.05 '.' 0.1 ' ' 1\n",
       "\n",
       "Multiple R-squared:   0.98,\tAdjusted R-squared:  0.9634 \n",
       "F-statistic: 58.85 on 5 and 6 DF,  p-value: 5.119e-05\n",
       "\n",
       "Analysis of Variance Table\n",
       "\n",
       "Response: y\n",
       "            Df Sum Sq Mean Sq F value    Pr(>F)\n",
       "FO(x1, x2)   2 914.40  457.20 77.6054 5.155e-05\n",
       "TWI(x1, x2)  1 240.25  240.25 40.7801 0.0006938\n",
       "PQ(x1, x2)   2 578.92  289.46 49.1328 0.0001906\n",
       "Residuals    6  35.35    5.89                  \n",
       "Lack of fit  3   8.60    2.87  0.3214 0.8119178\n",
       "Pure error   3  26.75    8.92                  \n",
       "\n",
       "Stationary point of response surface:\n",
       "         x1          x2 \n",
       " 0.55819271 -0.01073203 \n",
       "\n",
       "Eigenanalysis:\n",
       "eigen() decomposition\n",
       "$values\n",
       "[1]  -2.695206 -11.304794\n",
       "\n",
       "$vectors\n",
       "         [,1]       [,2]\n",
       "x1  0.5312434 -0.8472193\n",
       "x2 -0.8472193 -0.5312434\n",
       "\n"
      ]
     },
     "metadata": {},
     "output_type": "display_data"
    }
   ],
   "source": [
    "# show the summary\n",
    "summary(rsm.2.8.y.SOx12)"
   ]
  },
  {
   "cell_type": "code",
   "execution_count": 13,
   "metadata": {},
   "outputs": [
    {
     "data": {
      "text/html": [
       "<dl class=dl-horizontal>\n",
       "\t<dt>(Intercept)</dt>\n",
       "\t\t<dd>79.75</dd>\n",
       "\t<dt>FO(x1, x2)x1</dt>\n",
       "\t\t<dd>9.82474746830582</dd>\n",
       "\t<dt>FO(x1, x2)x2</dt>\n",
       "\t\t<dd>4.21599025766972</dd>\n",
       "\t<dt>TWI(x1, x2)</dt>\n",
       "\t\t<dd>-7.74999999999998</dd>\n",
       "\t<dt>PQ(x1, x2)x1^2</dt>\n",
       "\t\t<dd>-8.875</dd>\n",
       "\t<dt>PQ(x1, x2)x2^2</dt>\n",
       "\t\t<dd>-5.125</dd>\n",
       "</dl>\n"
      ],
      "text/latex": [
       "\\begin{description*}\n",
       "\\item[(Intercept)] 79.75\n",
       "\\item[FO(x1, x2)x1] 9.82474746830582\n",
       "\\item[FO(x1, x2)x2] 4.21599025766972\n",
       "\\item[TWI(x1, x2)] -7.74999999999998\n",
       "\\item[PQ(x1, x2)x1\\textbackslash{}textasciicircum\\{\\}2] -8.875\n",
       "\\item[PQ(x1, x2)x2\\textbackslash{}textasciicircum\\{\\}2] -5.125\n",
       "\\end{description*}\n"
      ],
      "text/markdown": [
       "(Intercept)\n",
       ":   79.75FO(x1, x2)x1\n",
       ":   9.82474746830582FO(x1, x2)x2\n",
       ":   4.21599025766972TWI(x1, x2)\n",
       ":   -7.74999999999998PQ(x1, x2)x1^2\n",
       ":   -8.875PQ(x1, x2)x2^2\n",
       ":   -5.125\n",
       "\n"
      ],
      "text/plain": [
       "   (Intercept)   FO(x1, x2)x1   FO(x1, x2)x2    TWI(x1, x2) PQ(x1, x2)x1^2 \n",
       "     79.750000       9.824747       4.215990      -7.750000      -8.875000 \n",
       "PQ(x1, x2)x2^2 \n",
       "     -5.125000 "
      ]
     },
     "metadata": {},
     "output_type": "display_data"
    }
   ],
   "source": [
    "# 查看方程系数   “$”是提取数据的操作符\n",
    "rsm.2.8.y.SOx12$coefficients"
   ]
  },
  {
   "cell_type": "code",
   "execution_count": 18,
   "metadata": {},
   "outputs": [],
   "source": [
    "b0 <- rsm.2.8.y.SOx12$coefficients[1]"
   ]
  },
  {
   "cell_type": "code",
   "execution_count": 19,
   "metadata": {},
   "outputs": [
    {
     "name": "stdout",
     "output_type": "stream",
     "text": [
      "(Intercept) \n",
      "      79.75 \n"
     ]
    }
   ],
   "source": [
    "print(b0)"
   ]
  },
  {
   "cell_type": "code",
   "execution_count": 14,
   "metadata": {},
   "outputs": [],
   "source": [
    "b1 <- rsm.2.8.y.SOx12$coefficients[2] + rsm.2.8.y.SOx12$coefficients[6]"
   ]
  },
  {
   "cell_type": "code",
   "execution_count": 15,
   "metadata": {},
   "outputs": [
    {
     "data": {
      "text/html": [
       "<strong>FO(x1, x2)x1:</strong> 4.69974746830583"
      ],
      "text/latex": [
       "\\textbf{FO(x1, x2)x1:} 4.69974746830583"
      ],
      "text/markdown": [
       "**FO(x1, x2)x1:** 4.69974746830583"
      ],
      "text/plain": [
       "FO(x1, x2)x1 \n",
       "    4.699747 "
      ]
     },
     "metadata": {},
     "output_type": "display_data"
    }
   ],
   "source": [
    "b1"
   ]
  },
  {
   "cell_type": "code",
   "execution_count": 32,
   "metadata": {},
   "outputs": [
    {
     "ename": "ERROR",
     "evalue": "Error in statistic(data, original, ...): could not find function \"statistic\"\n",
     "output_type": "error",
     "traceback": [
      "Error in statistic(data, original, ...): could not find function \"statistic\"\nTraceback:\n",
      "1. boot(data = df.2.8, b0, R = 1000)"
     ]
    }
   ],
   "source": [
    "# bootstrapping with 1000 replications \n",
    "boot(data=df.2.8,b0, \n",
    "  \tR=1000)"
   ]
  },
  {
   "cell_type": "code",
   "execution_count": 27,
   "metadata": {},
   "outputs": [],
   "source": [
    "help(boot)"
   ]
  },
  {
   "cell_type": "code",
   "execution_count": 36,
   "metadata": {},
   "outputs": [],
   "source": [
    "# Bootstrap 95% CI for regression coefficients \n",
    "library(boot)\n",
    "# function to obtain regression weights \n",
    "bs <- function(formula, data, indices) {\n",
    "   d <- data[indices,]  # allows boot to select sample \n",
    "   fit <- lm(formula, data=d)\n",
    "   return(coef(fit)) \n",
    "} \n",
    "# bootstrapping with 1000 replications \n",
    "results <- boot(data=df.2.8, statistic=bs, \n",
    "  \tR=1000, formula = y ~ SO(x1, x2))"
   ]
  },
  {
   "cell_type": "code",
   "execution_count": 39,
   "metadata": {},
   "outputs": [
    {
     "name": "stderr",
     "output_type": "stream",
     "text": [
      "Warning message in rsm(formula, data = d):\n",
      "\"Some coefficients are aliased - cannot use 'rsm' methods.\n",
      "  Returning an 'lm' object.\"Warning message in rsm(formula, data = d):\n",
      "\"Some coefficients are aliased - cannot use 'rsm' methods.\n",
      "  Returning an 'lm' object.\"Warning message in rsm(formula, data = d):\n",
      "\"Some coefficients are aliased - cannot use 'rsm' methods.\n",
      "  Returning an 'lm' object.\"Warning message in rsm(formula, data = d):\n",
      "\"Some coefficients are aliased - cannot use 'rsm' methods.\n",
      "  Returning an 'lm' object.\"Warning message in rsm(formula, data = d):\n",
      "\"Some coefficients are aliased - cannot use 'rsm' methods.\n",
      "  Returning an 'lm' object.\"Warning message in rsm(formula, data = d):\n",
      "\"Some coefficients are aliased - cannot use 'rsm' methods.\n",
      "  Returning an 'lm' object.\"Warning message in rsm(formula, data = d):\n",
      "\"Some coefficients are aliased - cannot use 'rsm' methods.\n",
      "  Returning an 'lm' object.\"Warning message in rsm(formula, data = d):\n",
      "\"Some coefficients are aliased - cannot use 'rsm' methods.\n",
      "  Returning an 'lm' object.\"Warning message in rsm(formula, data = d):\n",
      "\"Some coefficients are aliased - cannot use 'rsm' methods.\n",
      "  Returning an 'lm' object.\"Warning message in rsm(formula, data = d):\n",
      "\"Some coefficients are aliased - cannot use 'rsm' methods.\n",
      "  Returning an 'lm' object.\"Warning message in rsm(formula, data = d):\n",
      "\"Some coefficients are aliased - cannot use 'rsm' methods.\n",
      "  Returning an 'lm' object.\"Warning message in rsm(formula, data = d):\n",
      "\"Some coefficients are aliased - cannot use 'rsm' methods.\n",
      "  Returning an 'lm' object.\"Warning message in rsm(formula, data = d):\n",
      "\"Some coefficients are aliased - cannot use 'rsm' methods.\n",
      "  Returning an 'lm' object.\"Warning message in rsm(formula, data = d):\n",
      "\"Some coefficients are aliased - cannot use 'rsm' methods.\n",
      "  Returning an 'lm' object.\"Warning message in rsm(formula, data = d):\n",
      "\"Some coefficients are aliased - cannot use 'rsm' methods.\n",
      "  Returning an 'lm' object.\"Warning message in rsm(formula, data = d):\n",
      "\"Some coefficients are aliased - cannot use 'rsm' methods.\n",
      "  Returning an 'lm' object.\"Warning message in rsm(formula, data = d):\n",
      "\"Some coefficients are aliased - cannot use 'rsm' methods.\n",
      "  Returning an 'lm' object.\"Warning message in rsm(formula, data = d):\n",
      "\"Some coefficients are aliased - cannot use 'rsm' methods.\n",
      "  Returning an 'lm' object.\"Warning message in rsm(formula, data = d):\n",
      "\"Some coefficients are aliased - cannot use 'rsm' methods.\n",
      "  Returning an 'lm' object.\"Warning message in rsm(formula, data = d):\n",
      "\"Some coefficients are aliased - cannot use 'rsm' methods.\n",
      "  Returning an 'lm' object.\"Warning message in rsm(formula, data = d):\n",
      "\"Some coefficients are aliased - cannot use 'rsm' methods.\n",
      "  Returning an 'lm' object.\"Warning message in rsm(formula, data = d):\n",
      "\"Some coefficients are aliased - cannot use 'rsm' methods.\n",
      "  Returning an 'lm' object.\"Warning message in rsm(formula, data = d):\n",
      "\"Some coefficients are aliased - cannot use 'rsm' methods.\n",
      "  Returning an 'lm' object.\"Warning message in rsm(formula, data = d):\n",
      "\"Some coefficients are aliased - cannot use 'rsm' methods.\n",
      "  Returning an 'lm' object.\"Warning message in rsm(formula, data = d):\n",
      "\"Some coefficients are aliased - cannot use 'rsm' methods.\n",
      "  Returning an 'lm' object.\"Warning message in rsm(formula, data = d):\n",
      "\"Some coefficients are aliased - cannot use 'rsm' methods.\n",
      "  Returning an 'lm' object.\"Warning message in rsm(formula, data = d):\n",
      "\"Some coefficients are aliased - cannot use 'rsm' methods.\n",
      "  Returning an 'lm' object.\"Warning message in rsm(formula, data = d):\n",
      "\"Some coefficients are aliased - cannot use 'rsm' methods.\n",
      "  Returning an 'lm' object.\"Warning message in rsm(formula, data = d):\n",
      "\"Some coefficients are aliased - cannot use 'rsm' methods.\n",
      "  Returning an 'lm' object.\"Warning message in rsm(formula, data = d):\n",
      "\"Some coefficients are aliased - cannot use 'rsm' methods.\n",
      "  Returning an 'lm' object.\"Warning message in rsm(formula, data = d):\n",
      "\"Some coefficients are aliased - cannot use 'rsm' methods.\n",
      "  Returning an 'lm' object.\"Warning message in rsm(formula, data = d):\n",
      "\"Some coefficients are aliased - cannot use 'rsm' methods.\n",
      "  Returning an 'lm' object.\"Warning message in rsm(formula, data = d):\n",
      "\"Some coefficients are aliased - cannot use 'rsm' methods.\n",
      "  Returning an 'lm' object.\"Warning message in rsm(formula, data = d):\n",
      "\"Some coefficients are aliased - cannot use 'rsm' methods.\n",
      "  Returning an 'lm' object.\"Warning message in rsm(formula, data = d):\n",
      "\"Some coefficients are aliased - cannot use 'rsm' methods.\n",
      "  Returning an 'lm' object.\"Warning message in rsm(formula, data = d):\n",
      "\"Some coefficients are aliased - cannot use 'rsm' methods.\n",
      "  Returning an 'lm' object.\"Warning message in rsm(formula, data = d):\n",
      "\"Some coefficients are aliased - cannot use 'rsm' methods.\n",
      "  Returning an 'lm' object.\"Warning message in rsm(formula, data = d):\n",
      "\"Some coefficients are aliased - cannot use 'rsm' methods.\n",
      "  Returning an 'lm' object.\"Warning message in rsm(formula, data = d):\n",
      "\"Some coefficients are aliased - cannot use 'rsm' methods.\n",
      "  Returning an 'lm' object.\"Warning message in rsm(formula, data = d):\n",
      "\"Some coefficients are aliased - cannot use 'rsm' methods.\n",
      "  Returning an 'lm' object.\"Warning message in rsm(formula, data = d):\n",
      "\"Some coefficients are aliased - cannot use 'rsm' methods.\n",
      "  Returning an 'lm' object.\"Warning message in rsm(formula, data = d):\n",
      "\"Some coefficients are aliased - cannot use 'rsm' methods.\n",
      "  Returning an 'lm' object.\"Warning message in rsm(formula, data = d):\n",
      "\"Some coefficients are aliased - cannot use 'rsm' methods.\n",
      "  Returning an 'lm' object.\"Warning message in rsm(formula, data = d):\n",
      "\"Some coefficients are aliased - cannot use 'rsm' methods.\n",
      "  Returning an 'lm' object.\"Warning message in rsm(formula, data = d):\n",
      "\"Some coefficients are aliased - cannot use 'rsm' methods.\n",
      "  Returning an 'lm' object.\"Warning message in rsm(formula, data = d):\n",
      "\"Some coefficients are aliased - cannot use 'rsm' methods.\n",
      "  Returning an 'lm' object.\"Warning message in rsm(formula, data = d):\n",
      "\"Some coefficients are aliased - cannot use 'rsm' methods.\n",
      "  Returning an 'lm' object.\"Warning message in rsm(formula, data = d):\n",
      "\"Some coefficients are aliased - cannot use 'rsm' methods.\n",
      "  Returning an 'lm' object.\"Warning message in rsm(formula, data = d):\n",
      "\"Some coefficients are aliased - cannot use 'rsm' methods.\n",
      "  Returning an 'lm' object.\"Warning message in rsm(formula, data = d):\n",
      "\"Some coefficients are aliased - cannot use 'rsm' methods.\n",
      "  Returning an 'lm' object.\"Warning message in rsm(formula, data = d):\n",
      "\"Some coefficients are aliased - cannot use 'rsm' methods.\n",
      "  Returning an 'lm' object.\"Warning message in rsm(formula, data = d):\n",
      "\"Some coefficients are aliased - cannot use 'rsm' methods.\n",
      "  Returning an 'lm' object.\"Warning message in rsm(formula, data = d):\n",
      "\"Some coefficients are aliased - cannot use 'rsm' methods.\n",
      "  Returning an 'lm' object.\"Warning message in rsm(formula, data = d):\n",
      "\"Some coefficients are aliased - cannot use 'rsm' methods.\n",
      "  Returning an 'lm' object.\"Warning message in rsm(formula, data = d):\n",
      "\"Some coefficients are aliased - cannot use 'rsm' methods.\n",
      "  Returning an 'lm' object.\"Warning message in rsm(formula, data = d):\n",
      "\"Some coefficients are aliased - cannot use 'rsm' methods.\n",
      "  Returning an 'lm' object.\"Warning message in rsm(formula, data = d):\n",
      "\"Some coefficients are aliased - cannot use 'rsm' methods.\n",
      "  Returning an 'lm' object.\"Warning message in rsm(formula, data = d):\n",
      "\"Some coefficients are aliased - cannot use 'rsm' methods.\n",
      "  Returning an 'lm' object.\"Warning message in rsm(formula, data = d):\n",
      "\"Some coefficients are aliased - cannot use 'rsm' methods.\n",
      "  Returning an 'lm' object.\"Warning message in rsm(formula, data = d):\n",
      "\"Some coefficients are aliased - cannot use 'rsm' methods.\n",
      "  Returning an 'lm' object.\"Warning message in rsm(formula, data = d):\n",
      "\"Some coefficients are aliased - cannot use 'rsm' methods.\n",
      "  Returning an 'lm' object.\"Warning message in rsm(formula, data = d):\n",
      "\"Some coefficients are aliased - cannot use 'rsm' methods.\n",
      "  Returning an 'lm' object.\"Warning message in rsm(formula, data = d):\n",
      "\"Some coefficients are aliased - cannot use 'rsm' methods.\n",
      "  Returning an 'lm' object.\"Warning message in rsm(formula, data = d):\n",
      "\"Some coefficients are aliased - cannot use 'rsm' methods.\n"
     ]
    },
    {
     "name": "stderr",
     "output_type": "stream",
     "text": [
      "  Returning an 'lm' object.\"Warning message in rsm(formula, data = d):\n",
      "\"Some coefficients are aliased - cannot use 'rsm' methods.\n",
      "  Returning an 'lm' object.\"Warning message in rsm(formula, data = d):\n",
      "\"Some coefficients are aliased - cannot use 'rsm' methods.\n",
      "  Returning an 'lm' object.\"Warning message in rsm(formula, data = d):\n",
      "\"Some coefficients are aliased - cannot use 'rsm' methods.\n",
      "  Returning an 'lm' object.\"Warning message in rsm(formula, data = d):\n",
      "\"Some coefficients are aliased - cannot use 'rsm' methods.\n",
      "  Returning an 'lm' object.\"Warning message in rsm(formula, data = d):\n",
      "\"Some coefficients are aliased - cannot use 'rsm' methods.\n",
      "  Returning an 'lm' object.\"Warning message in rsm(formula, data = d):\n",
      "\"Some coefficients are aliased - cannot use 'rsm' methods.\n",
      "  Returning an 'lm' object.\"Warning message in rsm(formula, data = d):\n",
      "\"Some coefficients are aliased - cannot use 'rsm' methods.\n",
      "  Returning an 'lm' object.\"Warning message in rsm(formula, data = d):\n",
      "\"Some coefficients are aliased - cannot use 'rsm' methods.\n",
      "  Returning an 'lm' object.\"Warning message in rsm(formula, data = d):\n",
      "\"Some coefficients are aliased - cannot use 'rsm' methods.\n",
      "  Returning an 'lm' object.\"Warning message in rsm(formula, data = d):\n",
      "\"Some coefficients are aliased - cannot use 'rsm' methods.\n",
      "  Returning an 'lm' object.\"Warning message in rsm(formula, data = d):\n",
      "\"Some coefficients are aliased - cannot use 'rsm' methods.\n",
      "  Returning an 'lm' object.\"Warning message in rsm(formula, data = d):\n",
      "\"Some coefficients are aliased - cannot use 'rsm' methods.\n",
      "  Returning an 'lm' object.\"Warning message in rsm(formula, data = d):\n",
      "\"Some coefficients are aliased - cannot use 'rsm' methods.\n",
      "  Returning an 'lm' object.\"Warning message in rsm(formula, data = d):\n",
      "\"Some coefficients are aliased - cannot use 'rsm' methods.\n",
      "  Returning an 'lm' object.\"Warning message in rsm(formula, data = d):\n",
      "\"Some coefficients are aliased - cannot use 'rsm' methods.\n",
      "  Returning an 'lm' object.\"Warning message in rsm(formula, data = d):\n",
      "\"Some coefficients are aliased - cannot use 'rsm' methods.\n",
      "  Returning an 'lm' object.\"Warning message in rsm(formula, data = d):\n",
      "\"Some coefficients are aliased - cannot use 'rsm' methods.\n",
      "  Returning an 'lm' object.\"Warning message in rsm(formula, data = d):\n",
      "\"Some coefficients are aliased - cannot use 'rsm' methods.\n",
      "  Returning an 'lm' object.\"Warning message in rsm(formula, data = d):\n",
      "\"Some coefficients are aliased - cannot use 'rsm' methods.\n",
      "  Returning an 'lm' object.\"Warning message in rsm(formula, data = d):\n",
      "\"Some coefficients are aliased - cannot use 'rsm' methods.\n",
      "  Returning an 'lm' object.\"Warning message in rsm(formula, data = d):\n",
      "\"Some coefficients are aliased - cannot use 'rsm' methods.\n",
      "  Returning an 'lm' object.\"Warning message in rsm(formula, data = d):\n",
      "\"Some coefficients are aliased - cannot use 'rsm' methods.\n",
      "  Returning an 'lm' object.\"Warning message in rsm(formula, data = d):\n",
      "\"Some coefficients are aliased - cannot use 'rsm' methods.\n",
      "  Returning an 'lm' object.\"Warning message in rsm(formula, data = d):\n",
      "\"Some coefficients are aliased - cannot use 'rsm' methods.\n",
      "  Returning an 'lm' object.\"Warning message in rsm(formula, data = d):\n",
      "\"Some coefficients are aliased - cannot use 'rsm' methods.\n",
      "  Returning an 'lm' object.\"Warning message in rsm(formula, data = d):\n",
      "\"Some coefficients are aliased - cannot use 'rsm' methods.\n",
      "  Returning an 'lm' object.\"Warning message in rsm(formula, data = d):\n",
      "\"Some coefficients are aliased - cannot use 'rsm' methods.\n",
      "  Returning an 'lm' object.\"Warning message in rsm(formula, data = d):\n",
      "\"Some coefficients are aliased - cannot use 'rsm' methods.\n",
      "  Returning an 'lm' object.\"Warning message in rsm(formula, data = d):\n",
      "\"Some coefficients are aliased - cannot use 'rsm' methods.\n",
      "  Returning an 'lm' object.\"Warning message in rsm(formula, data = d):\n",
      "\"Some coefficients are aliased - cannot use 'rsm' methods.\n",
      "  Returning an 'lm' object.\"Warning message in rsm(formula, data = d):\n",
      "\"Some coefficients are aliased - cannot use 'rsm' methods.\n",
      "  Returning an 'lm' object.\"Warning message in rsm(formula, data = d):\n",
      "\"Some coefficients are aliased - cannot use 'rsm' methods.\n",
      "  Returning an 'lm' object.\"Warning message in rsm(formula, data = d):\n",
      "\"Some coefficients are aliased - cannot use 'rsm' methods.\n",
      "  Returning an 'lm' object.\"Warning message in rsm(formula, data = d):\n",
      "\"Some coefficients are aliased - cannot use 'rsm' methods.\n",
      "  Returning an 'lm' object.\"Warning message in rsm(formula, data = d):\n",
      "\"Some coefficients are aliased - cannot use 'rsm' methods.\n",
      "  Returning an 'lm' object.\"Warning message in rsm(formula, data = d):\n",
      "\"Some coefficients are aliased - cannot use 'rsm' methods.\n",
      "  Returning an 'lm' object.\"Warning message in rsm(formula, data = d):\n",
      "\"Some coefficients are aliased - cannot use 'rsm' methods.\n",
      "  Returning an 'lm' object.\"Warning message in rsm(formula, data = d):\n",
      "\"Some coefficients are aliased - cannot use 'rsm' methods.\n",
      "  Returning an 'lm' object.\"Warning message in rsm(formula, data = d):\n",
      "\"Some coefficients are aliased - cannot use 'rsm' methods.\n",
      "  Returning an 'lm' object.\"Warning message in rsm(formula, data = d):\n",
      "\"Some coefficients are aliased - cannot use 'rsm' methods.\n",
      "  Returning an 'lm' object.\"Warning message in rsm(formula, data = d):\n",
      "\"Some coefficients are aliased - cannot use 'rsm' methods.\n",
      "  Returning an 'lm' object.\"Warning message in rsm(formula, data = d):\n",
      "\"Some coefficients are aliased - cannot use 'rsm' methods.\n",
      "  Returning an 'lm' object.\"Warning message in rsm(formula, data = d):\n",
      "\"Some coefficients are aliased - cannot use 'rsm' methods.\n",
      "  Returning an 'lm' object.\"Warning message in rsm(formula, data = d):\n",
      "\"Some coefficients are aliased - cannot use 'rsm' methods.\n",
      "  Returning an 'lm' object.\"Warning message in rsm(formula, data = d):\n",
      "\"Some coefficients are aliased - cannot use 'rsm' methods.\n",
      "  Returning an 'lm' object.\"Warning message in rsm(formula, data = d):\n",
      "\"Some coefficients are aliased - cannot use 'rsm' methods.\n",
      "  Returning an 'lm' object.\"Warning message in rsm(formula, data = d):\n",
      "\"Some coefficients are aliased - cannot use 'rsm' methods.\n",
      "  Returning an 'lm' object.\"Warning message in rsm(formula, data = d):\n",
      "\"Some coefficients are aliased - cannot use 'rsm' methods.\n",
      "  Returning an 'lm' object.\"Warning message in rsm(formula, data = d):\n",
      "\"Some coefficients are aliased - cannot use 'rsm' methods.\n",
      "  Returning an 'lm' object.\"Warning message in rsm(formula, data = d):\n",
      "\"Some coefficients are aliased - cannot use 'rsm' methods.\n",
      "  Returning an 'lm' object.\"Warning message in rsm(formula, data = d):\n",
      "\"Some coefficients are aliased - cannot use 'rsm' methods.\n",
      "  Returning an 'lm' object.\"Warning message in rsm(formula, data = d):\n",
      "\"Some coefficients are aliased - cannot use 'rsm' methods.\n",
      "  Returning an 'lm' object.\"Warning message in rsm(formula, data = d):\n",
      "\"Some coefficients are aliased - cannot use 'rsm' methods.\n",
      "  Returning an 'lm' object.\"Warning message in rsm(formula, data = d):\n",
      "\"Some coefficients are aliased - cannot use 'rsm' methods.\n",
      "  Returning an 'lm' object.\"Warning message in rsm(formula, data = d):\n",
      "\"Some coefficients are aliased - cannot use 'rsm' methods.\n",
      "  Returning an 'lm' object.\"Warning message in rsm(formula, data = d):\n",
      "\"Some coefficients are aliased - cannot use 'rsm' methods.\n",
      "  Returning an 'lm' object.\"Warning message in rsm(formula, data = d):\n",
      "\"Some coefficients are aliased - cannot use 'rsm' methods.\n",
      "  Returning an 'lm' object.\"Warning message in rsm(formula, data = d):\n",
      "\"Some coefficients are aliased - cannot use 'rsm' methods.\n",
      "  Returning an 'lm' object.\"Warning message in rsm(formula, data = d):\n",
      "\"Some coefficients are aliased - cannot use 'rsm' methods.\n",
      "  Returning an 'lm' object.\"Warning message in rsm(formula, data = d):\n",
      "\"Some coefficients are aliased - cannot use 'rsm' methods.\n",
      "  Returning an 'lm' object.\"Warning message in rsm(formula, data = d):\n",
      "\"Some coefficients are aliased - cannot use 'rsm' methods.\n",
      "  Returning an 'lm' object.\"Warning message in rsm(formula, data = d):\n",
      "\"Some coefficients are aliased - cannot use 'rsm' methods.\n",
      "  Returning an 'lm' object.\"Warning message in rsm(formula, data = d):\n",
      "\"Some coefficients are aliased - cannot use 'rsm' methods.\n",
      "  Returning an 'lm' object.\"Warning message in rsm(formula, data = d):\n",
      "\"Some coefficients are aliased - cannot use 'rsm' methods.\n",
      "  Returning an 'lm' object.\"Warning message in rsm(formula, data = d):\n",
      "\"Some coefficients are aliased - cannot use 'rsm' methods.\n",
      "  Returning an 'lm' object.\"Warning message in rsm(formula, data = d):\n",
      "\"Some coefficients are aliased - cannot use 'rsm' methods.\n",
      "  Returning an 'lm' object.\"Warning message in rsm(formula, data = d):\n",
      "\"Some coefficients are aliased - cannot use 'rsm' methods.\n",
      "  Returning an 'lm' object.\"Warning message in rsm(formula, data = d):\n",
      "\"Some coefficients are aliased - cannot use 'rsm' methods.\n",
      "  Returning an 'lm' object.\"Warning message in rsm(formula, data = d):\n",
      "\"Some coefficients are aliased - cannot use 'rsm' methods.\n",
      "  Returning an 'lm' object.\"Warning message in rsm(formula, data = d):\n",
      "\"Some coefficients are aliased - cannot use 'rsm' methods.\n",
      "  Returning an 'lm' object.\"Warning message in rsm(formula, data = d):\n",
      "\"Some coefficients are aliased - cannot use 'rsm' methods.\n",
      "  Returning an 'lm' object.\"Warning message in rsm(formula, data = d):\n",
      "\"Some coefficients are aliased - cannot use 'rsm' methods.\n",
      "  Returning an 'lm' object.\"Warning message in rsm(formula, data = d):\n",
      "\"Some coefficients are aliased - cannot use 'rsm' methods.\n",
      "  Returning an 'lm' object.\"Warning message in rsm(formula, data = d):\n",
      "\"Some coefficients are aliased - cannot use 'rsm' methods.\n",
      "  Returning an 'lm' object.\"Warning message in rsm(formula, data = d):\n",
      "\"Some coefficients are aliased - cannot use 'rsm' methods.\n",
      "  Returning an 'lm' object.\"Warning message in rsm(formula, data = d):\n",
      "\"Some coefficients are aliased - cannot use 'rsm' methods.\n",
      "  Returning an 'lm' object.\"Warning message in rsm(formula, data = d):\n",
      "\"Some coefficients are aliased - cannot use 'rsm' methods.\n",
      "  Returning an 'lm' object.\"Warning message in rsm(formula, data = d):\n",
      "\"Some coefficients are aliased - cannot use 'rsm' methods.\n",
      "  Returning an 'lm' object.\"Warning message in rsm(formula, data = d):\n",
      "\"Some coefficients are aliased - cannot use 'rsm' methods.\n",
      "  Returning an 'lm' object.\"Warning message in rsm(formula, data = d):\n",
      "\"Some coefficients are aliased - cannot use 'rsm' methods.\n",
      "  Returning an 'lm' object.\"Warning message in rsm(formula, data = d):\n",
      "\"Some coefficients are aliased - cannot use 'rsm' methods.\n",
      "  Returning an 'lm' object.\"Warning message in rsm(formula, data = d):\n",
      "\"Some coefficients are aliased - cannot use 'rsm' methods.\n",
      "  Returning an 'lm' object.\"Warning message in rsm(formula, data = d):\n",
      "\"Some coefficients are aliased - cannot use 'rsm' methods.\n",
      "  Returning an 'lm' object.\"Warning message in rsm(formula, data = d):\n",
      "\"Some coefficients are aliased - cannot use 'rsm' methods.\n",
      "  Returning an 'lm' object.\"Warning message in rsm(formula, data = d):\n",
      "\"Some coefficients are aliased - cannot use 'rsm' methods.\n",
      "  Returning an 'lm' object.\"Warning message in rsm(formula, data = d):\n",
      "\"Some coefficients are aliased - cannot use 'rsm' methods.\n",
      "  Returning an 'lm' object.\"Warning message in rsm(formula, data = d):\n",
      "\"Some coefficients are aliased - cannot use 'rsm' methods.\n",
      "  Returning an 'lm' object.\"Warning message in rsm(formula, data = d):\n",
      "\"Some coefficients are aliased - cannot use 'rsm' methods.\n",
      "  Returning an 'lm' object.\"Warning message in rsm(formula, data = d):\n",
      "\"Some coefficients are aliased - cannot use 'rsm' methods.\n",
      "  Returning an 'lm' object.\"Warning message in rsm(formula, data = d):\n",
      "\"Some coefficients are aliased - cannot use 'rsm' methods.\n",
      "  Returning an 'lm' object.\"Warning message in rsm(formula, data = d):\n",
      "\"Some coefficients are aliased - cannot use 'rsm' methods.\n",
      "  Returning an 'lm' object.\"Warning message in rsm(formula, data = d):\n",
      "\"Some coefficients are aliased - cannot use 'rsm' methods.\n",
      "  Returning an 'lm' object.\"Warning message in rsm(formula, data = d):\n",
      "\"Some coefficients are aliased - cannot use 'rsm' methods.\n",
      "  Returning an 'lm' object.\"Warning message in rsm(formula, data = d):\n",
      "\"Some coefficients are aliased - cannot use 'rsm' methods.\n",
      "  Returning an 'lm' object.\"Warning message in rsm(formula, data = d):\n",
      "\"Some coefficients are aliased - cannot use 'rsm' methods.\n",
      "  Returning an 'lm' object.\"Warning message in rsm(formula, data = d):\n",
      "\"Some coefficients are aliased - cannot use 'rsm' methods.\n",
      "  Returning an 'lm' object.\"Warning message in rsm(formula, data = d):\n",
      "\"Some coefficients are aliased - cannot use 'rsm' methods.\n",
      "  Returning an 'lm' object.\"Warning message in rsm(formula, data = d):\n",
      "\"Some coefficients are aliased - cannot use 'rsm' methods.\n",
      "  Returning an 'lm' object.\"Warning message in rsm(formula, data = d):\n",
      "\"Some coefficients are aliased - cannot use 'rsm' methods.\n",
      "  Returning an 'lm' object.\"Warning message in rsm(formula, data = d):\n",
      "\"Some coefficients are aliased - cannot use 'rsm' methods.\n",
      "  Returning an 'lm' object.\"Warning message in rsm(formula, data = d):\n",
      "\"Some coefficients are aliased - cannot use 'rsm' methods.\n",
      "  Returning an 'lm' object.\"Warning message in rsm(formula, data = d):\n",
      "\"Some coefficients are aliased - cannot use 'rsm' methods.\n",
      "  Returning an 'lm' object.\"Warning message in rsm(formula, data = d):\n",
      "\"Some coefficients are aliased - cannot use 'rsm' methods.\n",
      "  Returning an 'lm' object.\"Warning message in rsm(formula, data = d):\n",
      "\"Some coefficients are aliased - cannot use 'rsm' methods.\n",
      "  Returning an 'lm' object.\"Warning message in rsm(formula, data = d):\n",
      "\"Some coefficients are aliased - cannot use 'rsm' methods.\n",
      "  Returning an 'lm' object.\"Warning message in rsm(formula, data = d):\n",
      "\"Some coefficients are aliased - cannot use 'rsm' methods.\n",
      "  Returning an 'lm' object.\"Warning message in rsm(formula, data = d):\n",
      "\"Some coefficients are aliased - cannot use 'rsm' methods.\n",
      "  Returning an 'lm' object.\"Warning message in rsm(formula, data = d):\n",
      "\"Some coefficients are aliased - cannot use 'rsm' methods.\n",
      "  Returning an 'lm' object.\"Warning message in rsm(formula, data = d):\n",
      "\"Some coefficients are aliased - cannot use 'rsm' methods.\n",
      "  Returning an 'lm' object.\"Warning message in rsm(formula, data = d):\n",
      "\"Some coefficients are aliased - cannot use 'rsm' methods.\n",
      "  Returning an 'lm' object.\"Warning message in rsm(formula, data = d):\n",
      "\"Some coefficients are aliased - cannot use 'rsm' methods.\n",
      "  Returning an 'lm' object.\"Warning message in rsm(formula, data = d):\n",
      "\"Some coefficients are aliased - cannot use 'rsm' methods.\n",
      "  Returning an 'lm' object.\"Warning message in rsm(formula, data = d):\n",
      "\"Some coefficients are aliased - cannot use 'rsm' methods.\n",
      "  Returning an 'lm' object.\"Warning message in rsm(formula, data = d):\n",
      "\"Some coefficients are aliased - cannot use 'rsm' methods.\n",
      "  Returning an 'lm' object.\"Warning message in rsm(formula, data = d):\n",
      "\"Some coefficients are aliased - cannot use 'rsm' methods.\n",
      "  Returning an 'lm' object.\"Warning message in rsm(formula, data = d):\n",
      "\"Some coefficients are aliased - cannot use 'rsm' methods.\n",
      "  Returning an 'lm' object.\"Warning message in rsm(formula, data = d):\n",
      "\"Some coefficients are aliased - cannot use 'rsm' methods.\n",
      "  Returning an 'lm' object.\"Warning message in rsm(formula, data = d):\n",
      "\"Some coefficients are aliased - cannot use 'rsm' methods.\n",
      "  Returning an 'lm' object.\"Warning message in rsm(formula, data = d):\n",
      "\"Some coefficients are aliased - cannot use 'rsm' methods.\n",
      "  Returning an 'lm' object.\"Warning message in rsm(formula, data = d):\n",
      "\"Some coefficients are aliased - cannot use 'rsm' methods.\n",
      "  Returning an 'lm' object.\"Warning message in rsm(formula, data = d):\n",
      "\"Some coefficients are aliased - cannot use 'rsm' methods.\n",
      "  Returning an 'lm' object.\"Warning message in rsm(formula, data = d):\n",
      "\"Some coefficients are aliased - cannot use 'rsm' methods.\n",
      "  Returning an 'lm' object.\"Warning message in rsm(formula, data = d):\n",
      "\"Some coefficients are aliased - cannot use 'rsm' methods.\n",
      "  Returning an 'lm' object.\"Warning message in rsm(formula, data = d):\n",
      "\"Some coefficients are aliased - cannot use 'rsm' methods.\n",
      "  Returning an 'lm' object.\"Warning message in rsm(formula, data = d):\n",
      "\"Some coefficients are aliased - cannot use 'rsm' methods.\n",
      "  Returning an 'lm' object.\"Warning message in rsm(formula, data = d):\n",
      "\"Some coefficients are aliased - cannot use 'rsm' methods.\n"
     ]
    },
    {
     "name": "stderr",
     "output_type": "stream",
     "text": [
      "  Returning an 'lm' object.\"Warning message in rsm(formula, data = d):\n",
      "\"Some coefficients are aliased - cannot use 'rsm' methods.\n",
      "  Returning an 'lm' object.\"Warning message in rsm(formula, data = d):\n",
      "\"Some coefficients are aliased - cannot use 'rsm' methods.\n",
      "  Returning an 'lm' object.\"Warning message in rsm(formula, data = d):\n",
      "\"Some coefficients are aliased - cannot use 'rsm' methods.\n",
      "  Returning an 'lm' object.\"Warning message in rsm(formula, data = d):\n",
      "\"Some coefficients are aliased - cannot use 'rsm' methods.\n",
      "  Returning an 'lm' object.\"Warning message in rsm(formula, data = d):\n",
      "\"Some coefficients are aliased - cannot use 'rsm' methods.\n",
      "  Returning an 'lm' object.\"Warning message in rsm(formula, data = d):\n",
      "\"Some coefficients are aliased - cannot use 'rsm' methods.\n",
      "  Returning an 'lm' object.\"Warning message in rsm(formula, data = d):\n",
      "\"Some coefficients are aliased - cannot use 'rsm' methods.\n",
      "  Returning an 'lm' object.\"Warning message in rsm(formula, data = d):\n",
      "\"Some coefficients are aliased - cannot use 'rsm' methods.\n",
      "  Returning an 'lm' object.\"Warning message in rsm(formula, data = d):\n",
      "\"Some coefficients are aliased - cannot use 'rsm' methods.\n",
      "  Returning an 'lm' object.\"Warning message in rsm(formula, data = d):\n",
      "\"Some coefficients are aliased - cannot use 'rsm' methods.\n",
      "  Returning an 'lm' object.\"Warning message in rsm(formula, data = d):\n",
      "\"Some coefficients are aliased - cannot use 'rsm' methods.\n",
      "  Returning an 'lm' object.\"Warning message in rsm(formula, data = d):\n",
      "\"Some coefficients are aliased - cannot use 'rsm' methods.\n",
      "  Returning an 'lm' object.\"Warning message in rsm(formula, data = d):\n",
      "\"Some coefficients are aliased - cannot use 'rsm' methods.\n",
      "  Returning an 'lm' object.\"Warning message in rsm(formula, data = d):\n",
      "\"Some coefficients are aliased - cannot use 'rsm' methods.\n",
      "  Returning an 'lm' object.\"Warning message in rsm(formula, data = d):\n",
      "\"Some coefficients are aliased - cannot use 'rsm' methods.\n",
      "  Returning an 'lm' object.\"Warning message in rsm(formula, data = d):\n",
      "\"Some coefficients are aliased - cannot use 'rsm' methods.\n",
      "  Returning an 'lm' object.\"Warning message in rsm(formula, data = d):\n",
      "\"Some coefficients are aliased - cannot use 'rsm' methods.\n",
      "  Returning an 'lm' object.\"Warning message in rsm(formula, data = d):\n",
      "\"Some coefficients are aliased - cannot use 'rsm' methods.\n",
      "  Returning an 'lm' object.\"Warning message in rsm(formula, data = d):\n",
      "\"Some coefficients are aliased - cannot use 'rsm' methods.\n",
      "  Returning an 'lm' object.\"Warning message in rsm(formula, data = d):\n",
      "\"Some coefficients are aliased - cannot use 'rsm' methods.\n",
      "  Returning an 'lm' object.\"Warning message in rsm(formula, data = d):\n",
      "\"Some coefficients are aliased - cannot use 'rsm' methods.\n",
      "  Returning an 'lm' object.\"Warning message in rsm(formula, data = d):\n",
      "\"Some coefficients are aliased - cannot use 'rsm' methods.\n",
      "  Returning an 'lm' object.\"Warning message in rsm(formula, data = d):\n",
      "\"Some coefficients are aliased - cannot use 'rsm' methods.\n",
      "  Returning an 'lm' object.\"Warning message in rsm(formula, data = d):\n",
      "\"Some coefficients are aliased - cannot use 'rsm' methods.\n",
      "  Returning an 'lm' object.\"Warning message in rsm(formula, data = d):\n",
      "\"Some coefficients are aliased - cannot use 'rsm' methods.\n",
      "  Returning an 'lm' object.\"Warning message in rsm(formula, data = d):\n",
      "\"Some coefficients are aliased - cannot use 'rsm' methods.\n",
      "  Returning an 'lm' object.\"Warning message in rsm(formula, data = d):\n",
      "\"Some coefficients are aliased - cannot use 'rsm' methods.\n",
      "  Returning an 'lm' object.\"Warning message in rsm(formula, data = d):\n",
      "\"Some coefficients are aliased - cannot use 'rsm' methods.\n",
      "  Returning an 'lm' object.\"Warning message in rsm(formula, data = d):\n",
      "\"Some coefficients are aliased - cannot use 'rsm' methods.\n",
      "  Returning an 'lm' object.\"Warning message in rsm(formula, data = d):\n",
      "\"Some coefficients are aliased - cannot use 'rsm' methods.\n",
      "  Returning an 'lm' object.\"Warning message in rsm(formula, data = d):\n",
      "\"Some coefficients are aliased - cannot use 'rsm' methods.\n",
      "  Returning an 'lm' object.\"Warning message in rsm(formula, data = d):\n",
      "\"Some coefficients are aliased - cannot use 'rsm' methods.\n",
      "  Returning an 'lm' object.\"Warning message in rsm(formula, data = d):\n",
      "\"Some coefficients are aliased - cannot use 'rsm' methods.\n",
      "  Returning an 'lm' object.\"Warning message in rsm(formula, data = d):\n",
      "\"Some coefficients are aliased - cannot use 'rsm' methods.\n",
      "  Returning an 'lm' object.\"Warning message in rsm(formula, data = d):\n",
      "\"Some coefficients are aliased - cannot use 'rsm' methods.\n",
      "  Returning an 'lm' object.\"Warning message in rsm(formula, data = d):\n",
      "\"Some coefficients are aliased - cannot use 'rsm' methods.\n",
      "  Returning an 'lm' object.\"Warning message in rsm(formula, data = d):\n",
      "\"Some coefficients are aliased - cannot use 'rsm' methods.\n",
      "  Returning an 'lm' object.\"Warning message in rsm(formula, data = d):\n",
      "\"Some coefficients are aliased - cannot use 'rsm' methods.\n",
      "  Returning an 'lm' object.\"Warning message in rsm(formula, data = d):\n",
      "\"Some coefficients are aliased - cannot use 'rsm' methods.\n",
      "  Returning an 'lm' object.\"Warning message in rsm(formula, data = d):\n",
      "\"Some coefficients are aliased - cannot use 'rsm' methods.\n",
      "  Returning an 'lm' object.\"Warning message in rsm(formula, data = d):\n",
      "\"Some coefficients are aliased - cannot use 'rsm' methods.\n",
      "  Returning an 'lm' object.\"Warning message in rsm(formula, data = d):\n",
      "\"Some coefficients are aliased - cannot use 'rsm' methods.\n",
      "  Returning an 'lm' object.\"Warning message in rsm(formula, data = d):\n",
      "\"Some coefficients are aliased - cannot use 'rsm' methods.\n",
      "  Returning an 'lm' object.\"Warning message in rsm(formula, data = d):\n",
      "\"Some coefficients are aliased - cannot use 'rsm' methods.\n",
      "  Returning an 'lm' object.\"Warning message in rsm(formula, data = d):\n",
      "\"Some coefficients are aliased - cannot use 'rsm' methods.\n",
      "  Returning an 'lm' object.\"Warning message in rsm(formula, data = d):\n",
      "\"Some coefficients are aliased - cannot use 'rsm' methods.\n",
      "  Returning an 'lm' object.\"Warning message in rsm(formula, data = d):\n",
      "\"Some coefficients are aliased - cannot use 'rsm' methods.\n",
      "  Returning an 'lm' object.\""
     ]
    }
   ],
   "source": [
    "# Bootstrap 95% CI for regression coefficients \n",
    "library(boot)\n",
    "# function to obtain regression weights \n",
    "bs <- function(formula, data, indices) {\n",
    "   d <- data[indices,]  # allows boot to select sample \n",
    "   fit <- rsm(formula, data=d)\n",
    "   return(coef(fit)) \n",
    "} \n",
    "# bootstrapping with 1000 replications \n",
    "results <- boot(data=df.2.8, statistic=bs, \n",
    "  \tR=1000, formula = y ~ SO(x1, x2))"
   ]
  },
  {
   "cell_type": "code",
   "execution_count": 34,
   "metadata": {},
   "outputs": [
    {
     "data": {
      "text/plain": [
       "\n",
       "ORDINARY NONPARAMETRIC BOOTSTRAP\n",
       "\n",
       "\n",
       "Call:\n",
       "boot(data = df.2.8, statistic = bs, R = 1000, formula = y ~ SO(x1, \n",
       "    x2))\n",
       "\n",
       "\n",
       "Bootstrap Statistics :\n",
       "     original      bias    std. error\n",
       "t1* 79.750000 -0.13927495    1.716981\n",
       "t2*  9.824747 -0.08640792    5.522761\n",
       "t3*  4.215990 -0.27957443    4.075035\n",
       "t4* -7.750000 -0.12358105    6.186726\n",
       "t5* -8.875000  0.03835445    3.495688\n",
       "t6* -5.125000  0.04172832    1.224691"
      ]
     },
     "metadata": {},
     "output_type": "display_data"
    },
    {
     "data": {
      "image/png": "[encoded data removed]",
      "text/plain": [
       "Plot with title \"Histogram of t\""
      ]
     },
     "metadata": {},
     "output_type": "display_data"
    },
    {
     "data": {
      "image/png": "[encoded data removed]",
      "text/plain": [
       "Plot with title \"Histogram of t\""
      ]
     },
     "metadata": {},
     "output_type": "display_data"
    },
    {
     "data": {
      "image/png": "[encoded data removed]",
      "text/plain": [
       "Plot with title \"Histogram of t\""
      ]
     },
     "metadata": {},
     "output_type": "display_data"
    },
    {
     "data": {
      "image/png": "[encoded data removed]",
      "text/plain": [
       "Plot with title \"Histogram of t\""
      ]
     },
     "metadata": {},
     "output_type": "display_data"
    },
    {
     "data": {
      "image/png": "[encoded data removed]",
      "text/plain": [
       "Plot with title \"Histogram of t\""
      ]
     },
     "metadata": {},
     "output_type": "display_data"
    },
    {
     "data": {
      "image/png": "[encoded data removed]",
      "text/plain": [
       "Plot with title \"Histogram of t\""
      ]
     },
     "metadata": {},
     "output_type": "display_data"
    }
   ],
   "source": [
    "# view results\n",
    "results\n",
    "plot(results, index=1) # intercept \n",
    "plot(results, index=2) # x1\n",
    "plot(results, index=3) # x2\n",
    "plot(results, index=4) # x1:x2\n",
    "plot(results, index=5) # x1^2 \n",
    "plot(results, index=6) # x2^2 "
   ]
  },
  {
   "cell_type": "code",
   "execution_count": 40,
   "metadata": {},
   "outputs": [
    {
     "data": {
      "text/plain": [
       "BOOTSTRAP CONFIDENCE INTERVAL CALCULATIONS\n",
       "Based on 1000 bootstrap replicates\n",
       "\n",
       "CALL : \n",
       "boot.ci(boot.out = results, type = \"perc\", index = 1)\n",
       "\n",
       "Intervals : \n",
       "Level     Percentile     \n",
       "95%   (76, 83 )  \n",
       "Calculations and Intervals on Original Scale"
      ]
     },
     "metadata": {},
     "output_type": "display_data"
    },
    {
     "data": {
      "text/plain": [
       "BOOTSTRAP CONFIDENCE INTERVAL CALCULATIONS\n",
       "Based on 1000 bootstrap replicates\n",
       "\n",
       "CALL : \n",
       "boot.ci(boot.out = results, type = \"perc\", index = 2)\n",
       "\n",
       "Intervals : \n",
       "Level     Percentile     \n",
       "95%   (-3.265, 23.192 )  \n",
       "Calculations and Intervals on Original Scale"
      ]
     },
     "metadata": {},
     "output_type": "display_data"
    },
    {
     "data": {
      "text/plain": [
       "BOOTSTRAP CONFIDENCE INTERVAL CALCULATIONS\n",
       "Based on 999 bootstrap replicates\n",
       "\n",
       "CALL : \n",
       "boot.ci(boot.out = results, type = \"bca\", index = 3)\n",
       "\n",
       "Intervals : \n",
       "Level       BCa          \n",
       "95%   (-4.418, 11.216 )  \n",
       "Calculations and Intervals on Original Scale"
      ]
     },
     "metadata": {},
     "output_type": "display_data"
    },
    {
     "data": {
      "text/plain": [
       "BOOTSTRAP CONFIDENCE INTERVAL CALCULATIONS\n",
       "Based on 966 bootstrap replicates\n",
       "\n",
       "CALL : \n",
       "boot.ci(boot.out = results, type = \"bca\", index = 4)\n",
       "\n",
       "Intervals : \n",
       "Level       BCa          \n",
       "95%   (-14.976,  11.771 )  \n",
       "Calculations and Intervals on Original Scale\n",
       "Some BCa intervals may be unstable"
      ]
     },
     "metadata": {},
     "output_type": "display_data"
    },
    {
     "data": {
      "text/plain": [
       "BOOTSTRAP CONFIDENCE INTERVAL CALCULATIONS\n",
       "Based on 922 bootstrap replicates\n",
       "\n",
       "CALL : \n",
       "boot.ci(boot.out = results, type = \"bca\", index = 5)\n",
       "\n",
       "Intervals : \n",
       "Level       BCa          \n",
       "95%   (-15.428,   2.832 )  \n",
       "Calculations and Intervals on Original Scale"
      ]
     },
     "metadata": {},
     "output_type": "display_data"
    },
    {
     "data": {
      "text/plain": [
       "BOOTSTRAP CONFIDENCE INTERVAL CALCULATIONS\n",
       "Based on 811 bootstrap replicates\n",
       "\n",
       "CALL : \n",
       "boot.ci(boot.out = results, type = \"bca\", index = 6)\n",
       "\n",
       "Intervals : \n",
       "Level       BCa          \n",
       "95%   (-6.942, -2.159 )  \n",
       "Calculations and Intervals on Original Scale"
      ]
     },
     "metadata": {},
     "output_type": "display_data"
    }
   ],
   "source": [
    "# get 95% confidence intervals \n",
    "boot.ci(results, type=\"perc\", index=1) # intercept \n",
    "boot.ci(results, type=\"perc\", index=2) # x1\n",
    "boot.ci(results, type=\"bca\", index=3) # x2\n",
    "boot.ci(results, type=\"bca\", index=4) # x1:x2\n",
    "boot.ci(results, type=\"bca\", index=5) # x1^2 \n",
    "boot.ci(results, type=\"bca\", index=6) # x2^2 "
   ]
  },
  {
   "cell_type": "code",
   "execution_count": 19,
   "metadata": {},
   "outputs": [],
   "source": [
    "help(boot.ci)"
   ]
  },
  {
   "cell_type": "code",
   "execution_count": 20,
   "metadata": {},
   "outputs": [],
   "source": [
    "# fit the first-order model\n",
    "rsm.2.8.y.FOx12 <- rsm(y ~ FO(x1, x2), data = df.2.8)"
   ]
  },
  {
   "cell_type": "code",
   "execution_count": 21,
   "metadata": {},
   "outputs": [
    {
     "data": {
      "text/plain": [
       "\n",
       "Call:\n",
       "rsm(formula = y ~ FO(x1, x2), data = df.2.8)\n",
       "\n",
       "            Estimate Std. Error t value  Pr(>|t|)    \n",
       "(Intercept)  70.4167     2.8129 25.0338 1.244e-09 ***\n",
       "x1            9.8247     3.4450  2.8519   0.01903 *  \n",
       "x2            4.2160     3.4450  1.2238   0.25210    \n",
       "---\n",
       "Signif. codes:  0 '***' 0.001 '**' 0.01 '*' 0.05 '.' 0.1 ' ' 1\n",
       "\n",
       "Multiple R-squared:  0.5169,\tAdjusted R-squared:  0.4096 \n",
       "F-statistic: 4.815 on 2 and 9 DF,  p-value: 0.03785\n",
       "\n",
       "Analysis of Variance Table\n",
       "\n",
       "Response: y\n",
       "            Df Sum Sq Mean Sq F value  Pr(>F)\n",
       "FO(x1, x2)   2 914.40  457.20  4.8154 0.03785\n",
       "Residuals    9 854.51   94.95                \n",
       "Lack of fit  6 827.76  137.96 15.4722 0.02333\n",
       "Pure error   3  26.75    8.92                \n",
       "\n",
       "Direction of steepest ascent (at radius 1):\n",
       "       x1        x2 \n",
       "0.9189626 0.3943447 \n",
       "\n",
       "Corresponding increment in original units:\n",
       "       x1        x2 \n",
       "0.9189626 0.3943447 \n"
      ]
     },
     "metadata": {},
     "output_type": "display_data"
    }
   ],
   "source": [
    "rsm.2.8.y.FOx12$studres <- rstudent(rsm.2.8.y.FOx12)\n",
    "summary(rsm.2.8.y.FOx12)"
   ]
  },
  {
   "cell_type": "code",
   "execution_count": 22,
   "metadata": {},
   "outputs": [],
   "source": [
    "# plot diagnistics\n",
    "par(mfrow=c(2,4))"
   ]
  },
  {
   "cell_type": "code",
   "execution_count": 23,
   "metadata": {},
   "outputs": [
    {
     "data": {
      "image/png": "[encoded data removed]",
      "text/plain": [
       "Plot with title \"Residuals vs x1\""
      ]
     },
     "metadata": {},
     "output_type": "display_data"
    }
   ],
   "source": [
    "plot(df.2.8$x1, rsm.2.8.y.SOx12$studres, main=\"Residuals vs x1\")\n",
    "# horizontal line at zero\n",
    "abline(h = 0, col = \"gray75\")"
   ]
  },
  {
   "cell_type": "code",
   "execution_count": 24,
   "metadata": {},
   "outputs": [
    {
     "data": {
      "image/png": "[encoded data removed]",
      "text/plain": [
       "Plot with title \"second-order model\""
      ]
     },
     "metadata": {},
     "output_type": "display_data"
    },
    {
     "data": {
      "image/png": "[encoded data removed]",
      "text/plain": [
       "Plot with title \"second-order model\""
      ]
     },
     "metadata": {},
     "output_type": "display_data"
    }
   ],
   "source": [
    "# second-order model\n",
    "contour(rsm.2.8.y.SOx12, ~ x1 + x2, image = TRUE, main=\"second-order model\")\n",
    "persp(rsm.2.8.y.SOx12, x2 ~ x1, zlab = \"y\", main=\"second-order model\")"
   ]
  },
  {
   "cell_type": "code",
   "execution_count": null,
   "metadata": {},
   "outputs": [],
   "source": []
  }
 ],
 "metadata": {
  "kernelspec": {
   "display_name": "R",
   "language": "R",
   "name": "ir"
  },
  "language_info": {
   "codemirror_mode": "r",
   "file_extension": ".r",
   "mimetype": "text/x-r-source",
   "name": "R",
   "pygments_lexer": "r",
   "version": "3.4.4"
  }
 },
 "nbformat": 4,
 "nbformat_minor": 2
}
