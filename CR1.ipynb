{
 "cells": [
  {
   "cell_type": "code",
   "execution_count": 1,
   "metadata": {},
   "outputs": [
    {
     "data": {
      "text/html": [
       "'C:/Users/Administrator/Desktop/R/R practice'"
      ],
      "text/latex": [
       "'C:/Users/Administrator/Desktop/R/R practice'"
      ],
      "text/markdown": [
       "'C:/Users/Administrator/Desktop/R/R practice'"
      ],
      "text/plain": [
       "[1] \"C:/Users/Administrator/Desktop/R/R practice\""
      ]
     },
     "metadata": {},
     "output_type": "display_data"
    }
   ],
   "source": [
    "getwd()\n",
    "options(repos = 'http://mirrors.ustc.edu.cn/CRAN/') "
   ]
  },
  {
   "cell_type": "code",
   "execution_count": 2,
   "metadata": {},
   "outputs": [
    {
     "data": {
      "text/html": [
       "<table>\n",
       "<thead><tr><th scope=col>Time</th><th scope=col>Temp</th><th scope=col>Block</th><th scope=col>Yield</th></tr></thead>\n",
       "<tbody>\n",
       "\t<tr><td>80.00 </td><td>170.00</td><td>B1    </td><td>80.5  </td></tr>\n",
       "\t<tr><td>80.00 </td><td>180.00</td><td>B1    </td><td>81.5  </td></tr>\n",
       "\t<tr><td>90.00 </td><td>170.00</td><td>B1    </td><td>82.0  </td></tr>\n",
       "\t<tr><td>90.00 </td><td>180.00</td><td>B1    </td><td>83.5  </td></tr>\n",
       "\t<tr><td>85.00 </td><td>175.00</td><td>B1    </td><td>83.9  </td></tr>\n",
       "\t<tr><td>85.00 </td><td>175.00</td><td>B1    </td><td>84.3  </td></tr>\n",
       "\t<tr><td>85.00 </td><td>175.00</td><td>B1    </td><td>84.0  </td></tr>\n",
       "\t<tr><td>85.00 </td><td>175.00</td><td>B2    </td><td>79.7  </td></tr>\n",
       "\t<tr><td>85.00 </td><td>175.00</td><td>B2    </td><td>79.8  </td></tr>\n",
       "\t<tr><td>85.00 </td><td>175.00</td><td>B2    </td><td>79.5  </td></tr>\n",
       "\t<tr><td>92.07 </td><td>175.00</td><td>B2    </td><td>78.4  </td></tr>\n",
       "\t<tr><td>77.93 </td><td>175.00</td><td>B2    </td><td>75.6  </td></tr>\n",
       "\t<tr><td>85.00 </td><td>182.07</td><td>B2    </td><td>78.5  </td></tr>\n",
       "\t<tr><td>85.00 </td><td>167.93</td><td>B2    </td><td>77.0  </td></tr>\n",
       "</tbody>\n",
       "</table>\n"
      ],
      "text/latex": [
       "\\begin{tabular}{r|llll}\n",
       " Time & Temp & Block & Yield\\\\\n",
       "\\hline\n",
       "\t 80.00  & 170.00 & B1     & 80.5  \\\\\n",
       "\t 80.00  & 180.00 & B1     & 81.5  \\\\\n",
       "\t 90.00  & 170.00 & B1     & 82.0  \\\\\n",
       "\t 90.00  & 180.00 & B1     & 83.5  \\\\\n",
       "\t 85.00  & 175.00 & B1     & 83.9  \\\\\n",
       "\t 85.00  & 175.00 & B1     & 84.3  \\\\\n",
       "\t 85.00  & 175.00 & B1     & 84.0  \\\\\n",
       "\t 85.00  & 175.00 & B2     & 79.7  \\\\\n",
       "\t 85.00  & 175.00 & B2     & 79.8  \\\\\n",
       "\t 85.00  & 175.00 & B2     & 79.5  \\\\\n",
       "\t 92.07  & 175.00 & B2     & 78.4  \\\\\n",
       "\t 77.93  & 175.00 & B2     & 75.6  \\\\\n",
       "\t 85.00  & 182.07 & B2     & 78.5  \\\\\n",
       "\t 85.00  & 167.93 & B2     & 77.0  \\\\\n",
       "\\end{tabular}\n"
      ],
      "text/markdown": [
       "\n",
       "Time | Temp | Block | Yield | \n",
       "|---|---|---|---|---|---|---|---|---|---|---|---|---|---|\n",
       "| 80.00  | 170.00 | B1     | 80.5   | \n",
       "| 80.00  | 180.00 | B1     | 81.5   | \n",
       "| 90.00  | 170.00 | B1     | 82.0   | \n",
       "| 90.00  | 180.00 | B1     | 83.5   | \n",
       "| 85.00  | 175.00 | B1     | 83.9   | \n",
       "| 85.00  | 175.00 | B1     | 84.3   | \n",
       "| 85.00  | 175.00 | B1     | 84.0   | \n",
       "| 85.00  | 175.00 | B2     | 79.7   | \n",
       "| 85.00  | 175.00 | B2     | 79.8   | \n",
       "| 85.00  | 175.00 | B2     | 79.5   | \n",
       "| 92.07  | 175.00 | B2     | 78.4   | \n",
       "| 77.93  | 175.00 | B2     | 75.6   | \n",
       "| 85.00  | 182.07 | B2     | 78.5   | \n",
       "| 85.00  | 167.93 | B2     | 77.0   | \n",
       "\n",
       "\n"
      ],
      "text/plain": [
       "   Time  Temp   Block Yield\n",
       "1  80.00 170.00 B1    80.5 \n",
       "2  80.00 180.00 B1    81.5 \n",
       "3  90.00 170.00 B1    82.0 \n",
       "4  90.00 180.00 B1    83.5 \n",
       "5  85.00 175.00 B1    83.9 \n",
       "6  85.00 175.00 B1    84.3 \n",
       "7  85.00 175.00 B1    84.0 \n",
       "8  85.00 175.00 B2    79.7 \n",
       "9  85.00 175.00 B2    79.8 \n",
       "10 85.00 175.00 B2    79.5 \n",
       "11 92.07 175.00 B2    78.4 \n",
       "12 77.93 175.00 B2    75.6 \n",
       "13 85.00 182.07 B2    78.5 \n",
       "14 85.00 167.93 B2    77.0 "
      ]
     },
     "metadata": {},
     "output_type": "display_data"
    }
   ],
   "source": [
    "library(\"rsm\")\n",
    "ChemReact"
   ]
  },
  {
   "cell_type": "code",
   "execution_count": 3,
   "metadata": {},
   "outputs": [
    {
     "data": {
      "text/html": [
       "<table>\n",
       "<thead><tr><th scope=col>x1</th><th scope=col>x2</th><th scope=col>Yield</th></tr></thead>\n",
       "<tbody>\n",
       "\t<tr><td>-1  </td><td>-1  </td><td>80.5</td></tr>\n",
       "\t<tr><td>-1  </td><td> 1  </td><td>81.5</td></tr>\n",
       "\t<tr><td> 1  </td><td>-1  </td><td>82.0</td></tr>\n",
       "\t<tr><td> 1  </td><td> 1  </td><td>83.5</td></tr>\n",
       "\t<tr><td> 0  </td><td> 0  </td><td>83.9</td></tr>\n",
       "\t<tr><td> 0  </td><td> 0  </td><td>84.3</td></tr>\n",
       "\t<tr><td> 0  </td><td> 0  </td><td>84.0</td></tr>\n",
       "</tbody>\n",
       "</table>\n"
      ],
      "text/latex": [
       "\\begin{tabular}{r|lll}\n",
       " x1 & x2 & Yield\\\\\n",
       "\\hline\n",
       "\t -1   & -1   & 80.5\\\\\n",
       "\t -1   &  1   & 81.5\\\\\n",
       "\t  1   & -1   & 82.0\\\\\n",
       "\t  1   &  1   & 83.5\\\\\n",
       "\t  0   &  0   & 83.9\\\\\n",
       "\t  0   &  0   & 84.3\\\\\n",
       "\t  0   &  0   & 84.0\\\\\n",
       "\\end{tabular}\n"
      ],
      "text/markdown": [
       "\n",
       "x1 | x2 | Yield | \n",
       "|---|---|---|---|---|---|---|\n",
       "| -1   | -1   | 80.5 | \n",
       "| -1   |  1   | 81.5 | \n",
       "|  1   | -1   | 82.0 | \n",
       "|  1   |  1   | 83.5 | \n",
       "|  0   |  0   | 83.9 | \n",
       "|  0   |  0   | 84.3 | \n",
       "|  0   |  0   | 84.0 | \n",
       "\n",
       "\n"
      ],
      "text/plain": [
       "  x1 x2 Yield\n",
       "1 -1 -1 80.5 \n",
       "2 -1  1 81.5 \n",
       "3  1 -1 82.0 \n",
       "4  1  1 83.5 \n",
       "5  0  0 83.9 \n",
       "6  0  0 84.3 \n",
       "7  0  0 84.0 "
      ]
     },
     "metadata": {},
     "output_type": "display_data"
    }
   ],
   "source": [
    "CR1 <- coded.data(ChemReact1, x1 ~ (Time - 85)/5, x2 ~ (Temp - 175)/5)\n",
    "CR1"
   ]
  },
  {
   "cell_type": "code",
   "execution_count": 4,
   "metadata": {},
   "outputs": [
    {
     "data": {
      "text/html": [
       "<table>\n",
       "<thead><tr><th scope=col>x1</th><th scope=col>x2</th><th scope=col>Yield</th></tr></thead>\n",
       "<tbody>\n",
       "\t<tr><td>-1  </td><td>-1  </td><td>80.5</td></tr>\n",
       "\t<tr><td>-1  </td><td> 1  </td><td>81.5</td></tr>\n",
       "\t<tr><td> 1  </td><td>-1  </td><td>82.0</td></tr>\n",
       "\t<tr><td> 1  </td><td> 1  </td><td>83.5</td></tr>\n",
       "\t<tr><td> 0  </td><td> 0  </td><td>83.9</td></tr>\n",
       "\t<tr><td> 0  </td><td> 0  </td><td>84.3</td></tr>\n",
       "\t<tr><td> 0  </td><td> 0  </td><td>84.0</td></tr>\n",
       "</tbody>\n",
       "</table>\n"
      ],
      "text/latex": [
       "\\begin{tabular}{r|lll}\n",
       " x1 & x2 & Yield\\\\\n",
       "\\hline\n",
       "\t -1   & -1   & 80.5\\\\\n",
       "\t -1   &  1   & 81.5\\\\\n",
       "\t  1   & -1   & 82.0\\\\\n",
       "\t  1   &  1   & 83.5\\\\\n",
       "\t  0   &  0   & 83.9\\\\\n",
       "\t  0   &  0   & 84.3\\\\\n",
       "\t  0   &  0   & 84.0\\\\\n",
       "\\end{tabular}\n"
      ],
      "text/markdown": [
       "\n",
       "x1 | x2 | Yield | \n",
       "|---|---|---|---|---|---|---|\n",
       "| -1   | -1   | 80.5 | \n",
       "| -1   |  1   | 81.5 | \n",
       "|  1   | -1   | 82.0 | \n",
       "|  1   |  1   | 83.5 | \n",
       "|  0   |  0   | 83.9 | \n",
       "|  0   |  0   | 84.3 | \n",
       "|  0   |  0   | 84.0 | \n",
       "\n",
       "\n"
      ],
      "text/plain": [
       "  x1 x2 Yield\n",
       "1 -1 -1 80.5 \n",
       "2 -1  1 81.5 \n",
       "3  1 -1 82.0 \n",
       "4  1  1 83.5 \n",
       "5  0  0 83.9 \n",
       "6  0  0 84.3 \n",
       "7  0  0 84.0 "
      ]
     },
     "metadata": {},
     "output_type": "display_data"
    }
   ],
   "source": [
    "as.data.frame(CR1)"
   ]
  },
  {
   "cell_type": "code",
   "execution_count": 6,
   "metadata": {},
   "outputs": [
    {
     "name": "stderr",
     "output_type": "stream",
     "text": [
      "Warning message in predict.lm(lmobj, newdata = newdata):\n",
      "\"prediction from a rank-deficient fit may be misleading\"Warning message in predict.lm(lmobj, newdata = newdata):\n",
      "\"prediction from a rank-deficient fit may be misleading\""
     ]
    },
    {
     "data": {
      "image/png": "[encoded data removed]",
      "text/plain": [
       "Plot with title \"second-order model\""
      ]
     },
     "metadata": {},
     "output_type": "display_data"
    },
    {
     "data": {
      "image/png": "[encoded data removed]",
      "text/plain": [
       "Plot with title \"second-order model\""
      ]
     },
     "metadata": {},
     "output_type": "display_data"
    }
   ],
   "source": [
    "# second-order model\n",
    "contour(rsm.CR1.Yield.SOx12, ~ x1 + x2, image = TRUE, main=\"second-order model\")\n",
    "persp(rsm.CR1.Yield.SOx12, x2 ~ x1, zlab = \"y\", main=\"second-order model\")"
   ]
  },
  {
   "cell_type": "code",
   "execution_count": 5,
   "metadata": {},
   "outputs": [
    {
     "name": "stderr",
     "output_type": "stream",
     "text": [
      "Warning message in rsm(Yield ~ SO(x1, x2), data = CR1):\n",
      "\"Some coefficients are aliased - cannot use 'rsm' methods.\n",
      "  Returning an 'lm' object.\""
     ]
    }
   ],
   "source": [
    "rsm.CR1.Yield.SOx12 <- rsm(Yield ~ SO(x1, x2), data = CR1)"
   ]
  }
 ],
 "metadata": {
  "kernelspec": {
   "display_name": "R",
   "language": "R",
   "name": "ir"
  },
  "language_info": {
   "codemirror_mode": "r",
   "file_extension": ".r",
   "mimetype": "text/x-r-source",
   "name": "R",
   "pygments_lexer": "r",
   "version": "3.4.4"
  }
 },
 "nbformat": 4,
 "nbformat_minor": 2
}
