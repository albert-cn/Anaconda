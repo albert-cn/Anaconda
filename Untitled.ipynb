{
 "cells": [
  {
   "cell_type": "code",
   "execution_count": 1,
   "metadata": {},
   "outputs": [
    {
     "data": {
      "text/html": [
       "'C:/Users/Administrator/Desktop/R/R practice'"
      ],
      "text/latex": [
       "'C:/Users/Administrator/Desktop/R/R practice'"
      ],
      "text/markdown": [
       "'C:/Users/Administrator/Desktop/R/R practice'"
      ],
      "text/plain": [
       "[1] \"C:/Users/Administrator/Desktop/R/R practice\""
      ]
     },
     "metadata": {},
     "output_type": "display_data"
    }
   ],
   "source": [
    "# 查看当前工作目录\n",
    "getwd()"
   ]
  },
  {
   "cell_type": "code",
   "execution_count": 2,
   "metadata": {},
   "outputs": [],
   "source": [
    "options(repos = 'http://mirrors.ustc.edu.cn/CRAN/') # 通过如下命令设定镜像"
   ]
  },
  {
   "cell_type": "code",
   "execution_count": 3,
   "metadata": {},
   "outputs": [
    {
     "name": "stderr",
     "output_type": "stream",
     "text": [
      "also installing the dependencies 'DEoptimR', 'mclust', 'flexmix', 'prabclus', 'diptest', 'robustbase', 'kernlab', 'trimcluster', 'farver', 'fpc', 'ggsci', 'cowplot', 'ggsignif', 'polynom', 'tweenr', 'units', 'dendextend', 'ggpubr', 'ellipse', 'flashClust', 'leaps', 'scatterplot3d', 'ggforce', 'factoextra', 'FactoMineR', 'ggraph', 'ggrepel', 'igraph', 'RISmed', 'rscopus', 'shinycssloaders', 'shinythemes', 'SnowballC'\n",
      "\n"
     ]
    },
    {
     "name": "stdout",
     "output_type": "stream",
     "text": [
      "package 'DEoptimR' successfully unpacked and MD5 sums checked\n",
      "package 'mclust' successfully unpacked and MD5 sums checked\n",
      "package 'flexmix' successfully unpacked and MD5 sums checked\n",
      "package 'prabclus' successfully unpacked and MD5 sums checked\n",
      "package 'diptest' successfully unpacked and MD5 sums checked\n",
      "package 'robustbase' successfully unpacked and MD5 sums checked\n",
      "package 'kernlab' successfully unpacked and MD5 sums checked\n",
      "package 'trimcluster' successfully unpacked and MD5 sums checked\n",
      "package 'farver' successfully unpacked and MD5 sums checked\n",
      "package 'fpc' successfully unpacked and MD5 sums checked\n",
      "package 'ggsci' successfully unpacked and MD5 sums checked\n",
      "package 'cowplot' successfully unpacked and MD5 sums checked\n",
      "package 'ggsignif' successfully unpacked and MD5 sums checked\n",
      "package 'polynom' successfully unpacked and MD5 sums checked\n",
      "package 'tweenr' successfully unpacked and MD5 sums checked\n",
      "package 'units' successfully unpacked and MD5 sums checked\n",
      "package 'dendextend' successfully unpacked and MD5 sums checked\n",
      "package 'ggpubr' successfully unpacked and MD5 sums checked\n",
      "package 'ellipse' successfully unpacked and MD5 sums checked\n",
      "package 'flashClust' successfully unpacked and MD5 sums checked\n",
      "package 'leaps' successfully unpacked and MD5 sums checked\n",
      "package 'scatterplot3d' successfully unpacked and MD5 sums checked\n",
      "package 'ggforce' successfully unpacked and MD5 sums checked\n",
      "package 'factoextra' successfully unpacked and MD5 sums checked\n",
      "package 'FactoMineR' successfully unpacked and MD5 sums checked\n",
      "package 'ggraph' successfully unpacked and MD5 sums checked\n",
      "package 'ggrepel' successfully unpacked and MD5 sums checked\n",
      "package 'igraph' successfully unpacked and MD5 sums checked\n",
      "package 'RISmed' successfully unpacked and MD5 sums checked\n",
      "package 'rscopus' successfully unpacked and MD5 sums checked\n",
      "package 'shinycssloaders' successfully unpacked and MD5 sums checked\n",
      "package 'shinythemes' successfully unpacked and MD5 sums checked\n",
      "package 'SnowballC' successfully unpacked and MD5 sums checked\n",
      "package 'bibliometrix' successfully unpacked and MD5 sums checked\n",
      "\n",
      "The downloaded binary packages are in\n",
      "\tC:\\Users\\Administrator\\AppData\\Local\\Temp\\Rtmpk3g5Qp\\downloaded_packages\n"
     ]
    }
   ],
   "source": [
    "install.packages('bibliometrix')"
   ]
  },
  {
   "cell_type": "code",
   "execution_count": 4,
   "metadata": {},
   "outputs": [
    {
     "ename": "ERROR",
     "evalue": "Error: package or namespace load failed for 'bibliometrix':\n object 'scale_type' is not exported by 'namespace:ggplot2'\n",
     "output_type": "error",
     "traceback": [
      "Error: package or namespace load failed for 'bibliometrix':\n object 'scale_type' is not exported by 'namespace:ggplot2'\nTraceback:\n",
      "1. library(bibliometrix)",
      "2. tryCatch({\n .     attr(package, \"LibPath\") <- which.lib.loc\n .     ns <- loadNamespace(package, lib.loc)\n .     env <- attachNamespace(ns, pos = pos, deps)\n . }, error = function(e) {\n .     P <- if (!is.null(cc <- conditionCall(e))) \n .         paste(\" in\", deparse(cc)[1L])\n .     else \"\"\n .     msg <- gettextf(\"package or namespace load failed for %s%s:\\n %s\", \n .         sQuote(package), P, conditionMessage(e))\n .     if (logical.return) \n .         message(paste(\"Error:\", msg), domain = NA)\n .     else stop(msg, call. = FALSE, domain = NA)\n . })",
      "3. tryCatchList(expr, classes, parentenv, handlers)",
      "4. tryCatchOne(expr, names, parentenv, handlers[[1L]])",
      "5. value[[3L]](cond)",
      "6. stop(msg, call. = FALSE, domain = NA)"
     ]
    }
   ],
   "source": [
    "library(bibliometrix)"
   ]
  },
  {
   "cell_type": "code",
   "execution_count": 5,
   "metadata": {},
   "outputs": [
    {
     "ename": "ERROR",
     "evalue": "Error in biblioshiny(): could not find function \"biblioshiny\"\n",
     "output_type": "error",
     "traceback": [
      "Error in biblioshiny(): could not find function \"biblioshiny\"\nTraceback:\n"
     ]
    }
   ],
   "source": [
    "biblioshiny()"
   ]
  },
  {
   "cell_type": "code",
   "execution_count": 6,
   "metadata": {},
   "outputs": [],
   "source": [
    "library(ggplot2)"
   ]
  },
  {
   "cell_type": "code",
   "execution_count": 7,
   "metadata": {},
   "outputs": [
    {
     "name": "stderr",
     "output_type": "stream",
     "text": [
      "Warning message in install.packages(\"dplyr\", \"factoextra\", \"FactoMineR\", \"ggplot2\", :\n",
      "\"'lib = \"factoextra\"' is not writable\""
     ]
    },
    {
     "ename": "ERROR",
     "evalue": "Error in install.packages(\"dplyr\", \"factoextra\", \"FactoMineR\", \"ggplot2\", : unable to install packages\n",
     "output_type": "error",
     "traceback": [
      "Error in install.packages(\"dplyr\", \"factoextra\", \"FactoMineR\", \"ggplot2\", : unable to install packages\nTraceback:\n",
      "1. install.packages(\"dplyr\", \"factoextra\", \"FactoMineR\", \"ggplot2\", \n .     \"igraph\", \"Matrix\", \"rscopus\", \"SnowballC\", \"stringr\")",
      "2. stop(\"unable to install packages\")"
     ]
    }
   ],
   "source": [
    "install.packages(\"dplyr\", \"factoextra\", \"FactoMineR\", \"ggplot2\", \"igraph\", \"Matrix\", \"rscopus\", \"SnowballC\", \"stringr\")"
   ]
  },
  {
   "cell_type": "code",
   "execution_count": 8,
   "metadata": {},
   "outputs": [
    {
     "ename": "ERROR",
     "evalue": "Error in update.packages(ggplot2): object 'ggplot2' not found\n",
     "output_type": "error",
     "traceback": [
      "Error in update.packages(ggplot2): object 'ggplot2' not found\nTraceback:\n",
      "1. update.packages(ggplot2)"
     ]
    }
   ],
   "source": [
    "update.packages(ggplot2)"
   ]
  },
  {
   "cell_type": "code",
   "execution_count": 9,
   "metadata": {},
   "outputs": [
    {
     "name": "stderr",
     "output_type": "stream",
     "text": [
      "Warning message:\n",
      "\"package 'ggplot2' is in use and will not be installed\""
     ]
    }
   ],
   "source": [
    "install.packages('ggplot2')"
   ]
  },
  {
   "cell_type": "code",
   "execution_count": null,
   "metadata": {},
   "outputs": [],
   "source": [
    "update.packages()"
   ]
  },
  {
   "cell_type": "code",
   "execution_count": null,
   "metadata": {},
   "outputs": [],
   "source": []
  }
 ],
 "metadata": {
  "kernelspec": {
   "display_name": "R",
   "language": "R",
   "name": "ir"
  },
  "language_info": {
   "codemirror_mode": "r",
   "file_extension": ".r",
   "mimetype": "text/x-r-source",
   "name": "R",
   "pygments_lexer": "r",
   "version": "3.4.4"
  }
 },
 "nbformat": 4,
 "nbformat_minor": 2
}
