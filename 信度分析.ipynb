{
 "cells": [
  {
   "cell_type": "code",
   "execution_count": 1,
   "metadata": {},
   "outputs": [
    {
     "data": {
      "text/html": [
       "'C:/Users/Administrator/Desktop/R/R practice'"
      ],
      "text/latex": [
       "'C:/Users/Administrator/Desktop/R/R practice'"
      ],
      "text/markdown": [
       "'C:/Users/Administrator/Desktop/R/R practice'"
      ],
      "text/plain": [
       "[1] \"C:/Users/Administrator/Desktop/R/R practice\""
      ]
     },
     "metadata": {},
     "output_type": "display_data"
    }
   ],
   "source": [
    "# 查看当前工作目录\n",
    "getwd()"
   ]
  },
  {
   "cell_type": "code",
   "execution_count": 2,
   "metadata": {},
   "outputs": [],
   "source": [
    "# 通过如下命令设定镜像\n",
    "options(repos = 'http://mirrors.ustc.edu.cn/CRAN/') "
   ]
  },
  {
   "cell_type": "code",
   "execution_count": 3,
   "metadata": {},
   "outputs": [],
   "source": [
    "# 加载psych包，用其函数进行alpha分析\n",
    "library(\"psych\")                       "
   ]
  },
  {
   "cell_type": "code",
   "execution_count": 4,
   "metadata": {},
   "outputs": [],
   "source": [
    " # 指定数据来源与文件名\n",
    "datafilename=\"http://personality-project.org/r/datasets/extraversion.items.txt\""
   ]
  },
  {
   "cell_type": "code",
   "execution_count": 5,
   "metadata": {},
   "outputs": [],
   "source": [
    " # 读取数据\n",
    "data=read.table(datafilename,header=TRUE) "
   ]
  },
  {
   "cell_type": "code",
   "execution_count": 6,
   "metadata": {},
   "outputs": [],
   "source": [
    " # 激活数据\n",
    "attach(data) "
   ]
  },
  {
   "cell_type": "code",
   "execution_count": 7,
   "metadata": {},
   "outputs": [],
   "source": [
    " # 将要分析的变量读入数据库，否则会分析所有变量\n",
    "e <- data.frame(q_262 ,q_1480 ,q_819 ,q_1180 ,q_1742)"
   ]
  },
  {
   "cell_type": "code",
   "execution_count": 8,
   "metadata": {},
   "outputs": [
    {
     "name": "stderr",
     "output_type": "stream",
     "text": [
      "Warning message in alpha(e, check.keys = TRUE):\n",
      "\"Some items were negatively correlated with total scale and were automatically reversed.\n",
      " This is indicated by a negative sign for the variable name.\""
     ]
    },
    {
     "data": {
      "text/plain": [
       "\n",
       "Reliability analysis   \n",
       "Call: alpha(x = e, check.keys = TRUE)\n",
       "\n",
       "  raw_alpha std.alpha G6(smc) average_r S/N  ase mean  sd\n",
       "      0.82      0.83    0.83      0.49 4.8 0.02  3.6 1.1\n",
       "\n",
       " lower alpha upper     95% confidence boundaries\n",
       "0.78 0.82 0.86 \n",
       "\n",
       " Reliability if an item is dropped:\n",
       "        raw_alpha std.alpha G6(smc) average_r S/N alpha se\n",
       "q_262        0.82      0.82    0.80      0.53 4.6    0.022\n",
       "q_1480-      0.79      0.80    0.76      0.49 3.9    0.024\n",
       "q_819        0.77      0.77    0.74      0.46 3.4    0.026\n",
       "q_1180-      0.79      0.79    0.77      0.49 3.8    0.025\n",
       "q_1742       0.77      0.78    0.77      0.46 3.5    0.027\n",
       "\n",
       " Item statistics \n",
       "          n raw.r std.r r.cor r.drop mean  sd\n",
       "q_262   200  0.71  0.70  0.58   0.52  3.1 1.5\n",
       "q_1480- 200  0.75  0.76  0.70   0.60  3.1 1.4\n",
       "q_819   200  0.80  0.82  0.78   0.69  4.6 1.2\n",
       "q_1180- 200  0.78  0.77  0.69   0.62  2.7 1.5\n",
       "q_1742  200  0.80  0.80  0.74   0.67  4.4 1.4\n",
       "\n",
       "Non missing response frequency for each item\n",
       "          0    1    2    3    4    5    6 miss\n",
       "q_262  0.00 0.18 0.20 0.22 0.22 0.12 0.06    0\n",
       "q_1480 0.00 0.18 0.25 0.18 0.26 0.08 0.03    0\n",
       "q_819  0.00 0.02 0.06 0.12 0.17 0.42 0.22    0\n",
       "q_1180 0.01 0.14 0.19 0.16 0.30 0.14 0.06    0\n",
       "q_1742 0.00 0.04 0.08 0.13 0.22 0.26 0.27    0"
      ]
     },
     "metadata": {},
     "output_type": "display_data"
    }
   ],
   "source": [
    " # 计算内部一致性系数，检查是否有反向计分题目\n",
    "alpha(e,check.keys=TRUE) "
   ]
  }
 ],
 "metadata": {
  "kernelspec": {
   "display_name": "R",
   "language": "R",
   "name": "ir"
  },
  "language_info": {
   "codemirror_mode": "r",
   "file_extension": ".r",
   "mimetype": "text/x-r-source",
   "name": "R",
   "pygments_lexer": "r",
   "version": "3.4.4"
  }
 },
 "nbformat": 4,
 "nbformat_minor": 2
}
