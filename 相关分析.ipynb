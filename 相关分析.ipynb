{
 "cells": [
  {
   "cell_type": "code",
   "execution_count": 1,
   "metadata": {},
   "outputs": [
    {
     "data": {
      "text/html": [
       "'C:/Users/Administrator/Desktop/R/R practice'"
      ],
      "text/latex": [
       "'C:/Users/Administrator/Desktop/R/R practice'"
      ],
      "text/markdown": [
       "'C:/Users/Administrator/Desktop/R/R practice'"
      ],
      "text/plain": [
       "[1] \"C:/Users/Administrator/Desktop/R/R practice\""
      ]
     },
     "metadata": {},
     "output_type": "display_data"
    }
   ],
   "source": [
    "# 查看当前工作目录\n",
    "getwd()"
   ]
  },
  {
   "cell_type": "code",
   "execution_count": 2,
   "metadata": {},
   "outputs": [],
   "source": [
    "options(repos = 'http://mirrors.ustc.edu.cn/CRAN/')"
   ]
  },
  {
   "cell_type": "code",
   "execution_count": 3,
   "metadata": {},
   "outputs": [
    {
     "data": {
      "text/plain": [
       "Call:corr.test(x = epi)\n",
       "Correlation matrix \n",
       "         epiE  epiS epiImp epilie epiNeur\n",
       "epiE     1.00  0.85   0.80  -0.22   -0.18\n",
       "epiS     0.85  1.00   0.43  -0.05   -0.22\n",
       "epiImp   0.80  0.43   1.00  -0.24   -0.07\n",
       "epilie  -0.22 -0.05  -0.24   1.00   -0.25\n",
       "epiNeur -0.18 -0.22  -0.07  -0.25    1.00\n",
       "Sample Size \n",
       "[1] 231\n",
       "Probability values (Entries above the diagonal are adjusted for multiple tests.) \n",
       "        epiE epiS epiImp epilie epiNeur\n",
       "epiE    0.00 0.00   0.00   0.00    0.02\n",
       "epiS    0.00 0.00   0.00   0.53    0.00\n",
       "epiImp  0.00 0.00   0.00   0.00    0.53\n",
       "epilie  0.00 0.43   0.00   0.00    0.00\n",
       "epiNeur 0.01 0.00   0.26   0.00    0.00\n",
       "\n",
       " To see confidence intervals of the correlations, print with the short=FALSE option"
      ]
     },
     "metadata": {},
     "output_type": "display_data"
    }
   ],
   "source": [
    "datafilename <- \"http://personality-project.org/r/datasets/maps.mixx.epi.bfi.data\"   # 指定文件名与路径\n",
    "mydata <-  read.table(datafilename,header=TRUE)                                      # 读取数据到mydata\n",
    "attach(mydata)                                                                       # 激活mydata\n",
    "library(psych)                                                                       # 启用psych包\n",
    "epi <- data.frame(epiE ,epiS ,epiImp ,epilie ,epiNeur)                               # 从mydata中提取数据子集，只包括要分析的变量\n",
    "corr.test(epi)                                                                       # 相关分析"
   ]
  }
 ],
 "metadata": {
  "kernelspec": {
   "display_name": "R",
   "language": "R",
   "name": "ir"
  },
  "language_info": {
   "codemirror_mode": "r",
   "file_extension": ".r",
   "mimetype": "text/x-r-source",
   "name": "R",
   "pygments_lexer": "r",
   "version": "3.4.4"
  }
 },
 "nbformat": 4,
 "nbformat_minor": 2
}
